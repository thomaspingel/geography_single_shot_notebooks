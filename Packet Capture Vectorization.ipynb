{
 "cells": [
  {
   "cell_type": "markdown",
   "metadata": {},
   "source": [
    "Packet processing speedup demonstration based on vectorization of code.  Initial runs on the whole (>300k packets) capture file took approximately 5 minutes.  The third iteration took approximately 9 seconds, a speedup of 33x.  This demonstrates those iterations using a smaller subsample (1k) of the original data."
   ]
  },
  {
   "cell_type": "code",
   "execution_count": 9,
   "metadata": {
    "collapsed": true
   },
   "outputs": [],
   "source": [
    "import pcapy\n",
    "from binascii import hexlify\n",
    "import numpy as np\n",
    "import time\n",
    "import matplotlib.pyplot as plt\n",
    "\n",
    "fn = 'data/2nd_floor_1k.pcap'\n",
    "\n",
    "%matplotlib inline"
   ]
  },
  {
   "cell_type": "code",
   "execution_count": 4,
   "metadata": {
    "collapsed": true
   },
   "outputs": [],
   "source": [
    "# Count number of packets\n",
    "cap = pcapy.open_offline(fn)\n",
    "\n",
    "cap.setfilter('dst port 2368')\n",
    "\n",
    "# get number of matching packets\n",
    "more_to_read = True\n",
    "num_packets = 0\n",
    "while more_to_read:\n",
    "    try:\n",
    "        header,packet = cap.next()\n",
    "        num_packets = num_packets + 1\n",
    "    except:\n",
    "        more_to_read=False"
   ]
  },
  {
   "cell_type": "markdown",
   "metadata": {},
   "source": [
    "The first iteration uses 2 nested loops.  The first loop (i) retreives moves through the packet, looking for 12 laser return reports.  The second loop (j) traverses the set of laser returns, gathering distance and intensity information."
   ]
  },
  {
   "cell_type": "code",
   "execution_count": 5,
   "metadata": {
    "collapsed": false
   },
   "outputs": [
    {
     "name": "stdout",
     "output_type": "stream",
     "text": [
      "0.78200006485\n"
     ]
    }
   ],
   "source": [
    "now = time.time()\n",
    "\n",
    "cap = pcapy.open_offline(fn)\n",
    "cap.setfilter('dst port 2368')\n",
    "\n",
    "azimuth = np.zeros(12)\n",
    "\n",
    "for k in range(num_packets):\n",
    "    header,packet = cap.next()\n",
    "\n",
    "    for i in range(12):\n",
    "        p1 = i*100\n",
    "        \n",
    "        block_id = hexlify(packet[p1+42:p1+44][::-1])\n",
    "        azimuth[i] = float(int(hexlify(packet[p1+44:p1+46][::-1]),16))/100\n",
    "        for j in range(32):\n",
    "            p2 = j*3\n",
    "            \n",
    "            dist = int(hexlify(packet[p1+p2+46:p1+p2+48][::-1]),16) * 0.002\n",
    "            intensity = int(hexlify(packet[p1+p2+48][::-1]),16)\n",
    "          \n",
    "    gpstime = float(int(hexlify(packet[1242:1246][::-1]),16)) / 10**6\n",
    "  \n",
    "print(time.time()-now)  "
   ]
  },
  {
   "cell_type": "markdown",
   "metadata": {},
   "source": [
    "The second iteration used numpy's <i>fromString</i> function to change the string data to an integer for each laser block.  In this instance, the outer (i) loop still gathers each block separately, but the (j) loop has been replaced by vectorized code.  This produced a substantial speedup (approximately 5x)."
   ]
  },
  {
   "cell_type": "code",
   "execution_count": 6,
   "metadata": {
    "collapsed": false
   },
   "outputs": [
    {
     "name": "stdout",
     "output_type": "stream",
     "text": [
      "0.159999847412\n"
     ]
    }
   ],
   "source": [
    "now = time.time()\n",
    "\n",
    "cap = pcapy.open_offline(fn)\n",
    "cap.setfilter('dst port 2368')\n",
    "\n",
    "azimuth = np.zeros(12)\n",
    "\n",
    "for k in range(num_packets):\n",
    "    header,packet = cap.next()\n",
    "\n",
    "    for i in range(12):\n",
    "        p1 = i*100\n",
    "        \n",
    "        block_id = hexlify(packet[p1+42:p1+44][::-1])\n",
    "        azimuth[i] = float(int(hexlify(packet[p1+44:p1+46][::-1]),16))/100\n",
    "        \n",
    "        payload = np.fromstring(packet[p1+46:p1+46+96],dtype=np.uint8).reshape((-1,3))\n",
    "        distances = 0.002 * (256*(payload[:,1].astype(dtype=float)) + payload[:,0])\n",
    "        intensities = payload[:,2] \n",
    "          \n",
    "    gpstime = float(int(hexlify(packet[1242:1246][::-1]),16)) / 10**6\n",
    "  \n",
    "print(time.time()-now)  "
   ]
  },
  {
   "cell_type": "markdown",
   "metadata": {},
   "source": [
    "The third iteration follows the same logic as the second, but the entire codeblock is reshaped as a 12x100 block, making extraction possible with simple indexing and no loops."
   ]
  },
  {
   "cell_type": "code",
   "execution_count": 7,
   "metadata": {
    "collapsed": false
   },
   "outputs": [
    {
     "name": "stdout",
     "output_type": "stream",
     "text": [
      "0.0329999923706\n"
     ]
    }
   ],
   "source": [
    "now = time.time()\n",
    "\n",
    "cap = pcapy.open_offline(fn)\n",
    "cap.setfilter('dst port 2368')\n",
    "\n",
    "for k in range(num_packets):\n",
    "    header,packet = cap.next()\n",
    "    \n",
    "    payload = np.fromstring(packet[42:1242],dtype=np.uint8).reshape((12,100))\n",
    "    \n",
    "    azimuths = 256*payload[:,3] + payload[:,2]\n",
    "    distances = .002 * (256*payload[:,5::3] + payload[:,4::3])\n",
    "    intensities = payload[:,6::3]\n",
    "    gpstime = int(hexlify(packet[1242:1246][::-1]),16)\n",
    "\n",
    "  \n",
    "print(time.time()-now)  "
   ]
  },
  {
   "cell_type": "code",
   "execution_count": null,
   "metadata": {
    "collapsed": true
   },
   "outputs": [],
   "source": [
    "You can visualize the regularity in the packet payload:"
   ]
  },
  {
   "cell_type": "code",
   "execution_count": 10,
   "metadata": {
    "collapsed": false
   },
   "outputs": [
    {
     "data": {
      "text/plain": [
       "<matplotlib.image.AxesImage at 0xad63cc0>"
      ]
     },
     "execution_count": 10,
     "metadata": {},
     "output_type": "execute_result"
    }
   ],
   "source": [
    "plt.imshow(payload)"
   ]
  },
  {
   "cell_type": "code",
   "execution_count": null,
   "metadata": {
    "collapsed": true
   },
   "outputs": [],
   "source": []
  }
 ],
 "metadata": {
  "kernelspec": {
   "display_name": "Python 2",
   "language": "python",
   "name": "python2"
  },
  "language_info": {
   "codemirror_mode": {
    "name": "ipython",
    "version": 2
   },
   "file_extension": ".py",
   "mimetype": "text/x-python",
   "name": "python",
   "nbconvert_exporter": "python",
   "pygments_lexer": "ipython2",
   "version": "2.7.10"
  }
 },
 "nbformat": 4,
 "nbformat_minor": 0
}
