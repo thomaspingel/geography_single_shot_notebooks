{
 "cells": [
  {
   "cell_type": "code",
   "execution_count": 6,
   "metadata": {
    "collapsed": true
   },
   "outputs": [],
   "source": [
    "# Reading the contents of a file\n",
    "\n",
    "filename = 'list0.txt'"
   ]
  },
  {
   "cell_type": "code",
   "execution_count": 8,
   "metadata": {
    "collapsed": false
   },
   "outputs": [
    {
     "name": "stdout",
     "output_type": "stream",
     "text": [
      "Archie Rye Â \n",
      "Zachery Cipolla Â \n",
      "Rebbeca Jason Â \n",
      "Lorilee Bratten Â \n",
      "Corliss Robitaille Â \n",
      "Lurline Hayslett Â \n",
      "Nola Barranco Â \n",
      "Socorro Delong Â \n",
      "Tiesha Coy Â \n",
      "Cathey Strayhorn Â \n",
      "Lula Boley Â \n",
      "Elana Horsman Â \n",
      "Angila Arbour Â \n",
      "Teena Lejeune Â \n",
      "Enriqueta Lossing Â \n",
      "Kacey Borum Â \n",
      "Yoshiko Bonds Â \n",
      "Twana Mccusker Â \n",
      "Laurena Godwin Â \n",
      "Danilo Heth Â \n"
     ]
    }
   ],
   "source": [
    "# Reading the whole thing.  If your file is big and your memory is small, you will have problems!\n",
    "\n",
    "f = open(filename,'r') # The \"r\" flags for reading; you can write in a similar way.\n",
    "contents = f.read()\n",
    "f.close                # Don't forget to close your file when you're done with it!\n",
    "\n",
    "print(contents)"
   ]
  },
  {
   "cell_type": "code",
   "execution_count": 12,
   "metadata": {
    "collapsed": false
   },
   "outputs": [
    {
     "name": "stdout",
     "output_type": "stream",
     "text": [
      "Archie Rye Â \n",
      "\n",
      "Zachery Cipolla Â \n",
      "\n",
      "Rebbeca Jason Â \n",
      "\n",
      "Lorilee Bratten Â \n",
      "\n",
      "Corliss Robitaille Â \n",
      "\n",
      "Lurline Hayslett Â \n",
      "\n",
      "Nola Barranco Â \n",
      "\n",
      "Socorro Delong Â \n",
      "\n",
      "Tiesha Coy Â \n",
      "\n",
      "Cathey Strayhorn Â \n",
      "\n",
      "Lula Boley Â \n",
      "\n",
      "Elana Horsman Â \n",
      "\n",
      "Angila Arbour Â \n",
      "\n",
      "Teena Lejeune Â \n",
      "\n",
      "Enriqueta Lossing Â \n",
      "\n",
      "Kacey Borum Â \n",
      "\n",
      "Yoshiko Bonds Â \n",
      "\n",
      "Twana Mccusker Â \n",
      "\n",
      "Laurena Godwin Â \n",
      "\n",
      "Danilo Heth Â \n"
     ]
    }
   ],
   "source": [
    "# Reading line by line with a loop\n",
    "\n",
    "f = open(filename,'r')\n",
    "for line in f:\n",
    "    print(line)\n",
    "f.close"
   ]
  },
  {
   "cell_type": "code",
   "execution_count": 15,
   "metadata": {
    "collapsed": false
   },
   "outputs": [
    {
     "name": "stdout",
     "output_type": "stream",
     "text": [
      "['Archie Rye Â\\xa0\\n', 'Zachery Cipolla Â\\xa0\\n', 'Rebbeca Jason Â\\xa0\\n', 'Lorilee Bratten Â\\xa0\\n', 'Corliss Robitaille Â\\xa0\\n', 'Lurline Hayslett Â\\xa0\\n', 'Nola Barranco Â\\xa0\\n', 'Socorro Delong Â\\xa0\\n', 'Tiesha Coy Â\\xa0\\n', 'Cathey Strayhorn Â\\xa0\\n', 'Lula Boley Â\\xa0\\n', 'Elana Horsman Â\\xa0\\n', 'Angila Arbour Â\\xa0\\n', 'Teena Lejeune Â\\xa0\\n', 'Enriqueta Lossing Â\\xa0\\n', 'Kacey Borum Â\\xa0\\n', 'Yoshiko Bonds Â\\xa0\\n', 'Twana Mccusker Â\\xa0\\n', 'Laurena Godwin Â\\xa0\\n', 'Danilo Heth Â\\xa0']\n"
     ]
    }
   ],
   "source": [
    "# Read into a list\n",
    "\n",
    "f = open(filename,'r')\n",
    "lines = f.readlines()\n",
    "f.close\n",
    "print(lines)"
   ]
  },
  {
   "cell_type": "code",
   "execution_count": 16,
   "metadata": {
    "collapsed": false
   },
   "outputs": [
    {
     "name": "stdout",
     "output_type": "stream",
     "text": [
      "['Archie Rye Â\\xa0\\n', 'Zachery Cipolla Â\\xa0\\n', 'Rebbeca Jason Â\\xa0\\n', 'Lorilee Bratten Â\\xa0\\n', 'Corliss Robitaille Â\\xa0\\n', 'Lurline Hayslett Â\\xa0\\n', 'Nola Barranco Â\\xa0\\n', 'Socorro Delong Â\\xa0\\n', 'Tiesha Coy Â\\xa0\\n', 'Cathey Strayhorn Â\\xa0\\n', 'Lula Boley Â\\xa0\\n', 'Elana Horsman Â\\xa0\\n', 'Angila Arbour Â\\xa0\\n', 'Teena Lejeune Â\\xa0\\n', 'Enriqueta Lossing Â\\xa0\\n', 'Kacey Borum Â\\xa0\\n', 'Yoshiko Bonds Â\\xa0\\n', 'Twana Mccusker Â\\xa0\\n', 'Laurena Godwin Â\\xa0\\n', 'Danilo Heth Â\\xa0']\n"
     ]
    }
   ],
   "source": [
    "# Better, newer techniques use WITH to read.  Much safer if your program crashes in the middle!\n",
    "\n",
    "with open(filename,'r') as f:\n",
    "    lines = f.readlines()\n",
    "print(lines)"
   ]
  },
  {
   "cell_type": "code",
   "execution_count": null,
   "metadata": {
    "collapsed": true
   },
   "outputs": [],
   "source": []
  }
 ],
 "metadata": {
  "kernelspec": {
   "display_name": "Python 3",
   "language": "python",
   "name": "python3"
  },
  "language_info": {
   "codemirror_mode": {
    "name": "ipython",
    "version": 3
   },
   "file_extension": ".py",
   "mimetype": "text/x-python",
   "name": "python",
   "nbconvert_exporter": "python",
   "pygments_lexer": "ipython3",
   "version": "3.5.2"
  }
 },
 "nbformat": 4,
 "nbformat_minor": 0
}
