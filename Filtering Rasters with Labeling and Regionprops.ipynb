{
 "cells": [
  {
   "cell_type": "code",
   "execution_count": 3,
   "metadata": {},
   "outputs": [],
   "source": [
    "import numpy as np\n",
    "import matplotlib.pyplot as plt\n",
    "import scipy.ndimage as ndi\n",
    "import rasterio\n",
    "\n",
    "from skimage import measure\n",
    "\n",
    "import pandas as pd\n",
    "#from scipy import stats"
   ]
  },
  {
   "cell_type": "markdown",
   "metadata": {},
   "source": [
    "# An Explanation"
   ]
  },
  {
   "cell_type": "markdown",
   "metadata": {},
   "source": [
    "Many times in a raster, we want to find connected components in the image to identify descrete objects.  We call this labeling, and can find it in several Python packages, including SciPy's ndimage, scikit-image's measure toolbox, and OpenCV.  Many other computer vision packages feature this functionality as well.\n",
    "\n",
    "The idea is that we search the image for pixels that are adjacent to one another to form larger regions.  We usually count adjancency, or neighbors, in two ways - either a 4-way system of neighbors, where pixels to the top, bottom, left, and right are considered neighbors, or 8-way, in which pixels diagnonally to a central pixel are included as well.\n",
    "\n",
    "Regions are first found or labelled (<i>label</i>), and then secondarily we can find properties about these regions (<i>regionprops</i>) including the area, coordiantes, perimeter, and many, many other qualities.\n",
    "\n",
    "Solving the problem in raster-space, rather than transforming to vector-space first, produces very impressive efficiency gains."
   ]
  },
  {
   "cell_type": "markdown",
   "metadata": {},
   "source": [
    "# A simple example"
   ]
  },
  {
   "cell_type": "markdown",
   "metadata": {},
   "source": [
    "### Generate test data"
   ]
  },
  {
   "cell_type": "markdown",
   "metadata": {},
   "source": [
    "We can start by generating a small raster of random data, and then applying a threshold to turn it into a binary image.  A dilation afterward will help the individual regions grow into one another to form larger regions of connected components."
   ]
  },
  {
   "cell_type": "code",
   "execution_count": 4,
   "metadata": {},
   "outputs": [
    {
     "data": {
      "text/plain": [
       "<matplotlib.image.AxesImage at 0x1ffff475fd0>"
      ]
     },
     "execution_count": 4,
     "metadata": {},
     "output_type": "execute_result"
    },
    {
     "data": {
      "image/png": "[encoded data removed]",
      "text/plain": [
       "<Figure size 432x288 with 1 Axes>"
      ]
     },
     "metadata": {
      "needs_background": "light"
     },
     "output_type": "display_data"
    }
   ],
   "source": [
    "# We can create a simple raster of random, grouped data to do some initial testing.\n",
    "\n",
    "X = np.random.rand(20,20)\n",
    "X = X < .02\n",
    "X = ndi.morphology.binary_dilation(X,np.ones((3,3)))\n",
    "plt.imshow(X)"
   ]
  },
  {
   "cell_type": "markdown",
   "metadata": {},
   "source": [
    "### Label the image and calculate properties"
   ]
  },
  {
   "cell_type": "code",
   "execution_count": 5,
   "metadata": {},
   "outputs": [
    {
     "name": "stdout",
     "output_type": "stream",
     "text": [
      "There are 7 features in the above image.\n"
     ]
    }
   ],
   "source": [
    "# We can label this dataset, and display the groupings.\n",
    "\n",
    "# Categorize raster based on this distance threshold\n",
    "X_labeled, num_features = measure.label(X,connectivity=2,return_num=True)\n",
    "props = measure.regionprops_table(X_labeled,properties=['label','area','coords'])\n",
    "\n",
    "print('There are',num_features,'features in the above image.')"
   ]
  },
  {
   "cell_type": "markdown",
   "metadata": {},
   "source": [
    "<B>Note that measure.regionprops_table is new in scikit-image v16.  Similar results can be had with \"regionprops\" instead, which outputs a list.</b>"
   ]
  },
  {
   "cell_type": "markdown",
   "metadata": {},
   "source": [
    "### Inspect the output"
   ]
  },
  {
   "cell_type": "markdown",
   "metadata": {},
   "source": [
    "The output of the labeling process is an array of equal size to the input, with each region given a unique integer ID.<BR><BR>These ids increase left to right, and top to bottom."
   ]
  },
  {
   "cell_type": "code",
   "execution_count": 6,
   "metadata": {},
   "outputs": [
    {
     "name": "stdout",
     "output_type": "stream",
     "text": [
      "[[0 0 0 0 0 0 0 0 0 0 0 1 1 1 0 0 0 0 0 0]\n",
      " [0 0 0 0 0 0 0 0 0 0 0 1 1 1 0 0 0 0 0 0]\n",
      " [0 0 0 0 0 0 0 0 0 0 0 1 1 1 0 0 0 0 0 0]\n",
      " [0 0 0 0 2 2 2 0 0 0 0 0 0 0 0 0 0 0 0 0]\n",
      " [0 0 0 0 2 2 2 0 0 0 0 0 0 0 0 0 0 0 0 0]\n",
      " [0 0 0 0 2 2 2 0 0 0 0 0 0 0 0 0 0 0 0 0]\n",
      " [0 0 0 0 0 0 0 0 0 0 0 0 0 0 0 0 0 0 0 0]\n",
      " [3 3 0 0 0 0 0 0 0 4 4 4 0 0 0 0 0 0 0 0]\n",
      " [3 3 0 0 0 0 0 0 0 4 4 4 4 4 4 0 0 0 0 0]\n",
      " [3 3 0 0 0 0 0 0 0 4 4 4 4 4 4 4 4 4 0 0]\n",
      " [0 0 0 0 0 5 5 5 0 0 0 0 4 4 4 4 4 4 0 0]\n",
      " [0 0 0 0 0 5 5 5 0 0 0 0 4 4 4 4 4 4 0 0]\n",
      " [0 0 0 0 0 5 5 5 0 0 0 0 4 4 4 0 0 0 4 4]\n",
      " [0 0 0 0 0 0 0 0 0 0 0 0 0 0 0 0 0 0 4 4]\n",
      " [0 0 0 0 0 0 0 0 0 0 0 0 0 0 0 0 0 0 4 4]\n",
      " [0 0 0 0 0 0 0 0 0 0 0 6 6 6 0 0 0 0 0 0]\n",
      " [0 0 0 0 0 0 0 0 0 0 0 6 6 6 0 0 0 0 0 0]\n",
      " [0 0 0 0 0 0 0 0 0 0 0 6 6 6 0 0 0 0 0 0]\n",
      " [0 0 0 0 0 0 0 0 0 0 0 0 0 0 0 0 0 7 7 7]\n",
      " [0 0 0 0 0 0 0 0 0 0 0 0 0 0 0 0 0 7 7 7]]\n"
     ]
    }
   ],
   "source": [
    "print(X_labeled)"
   ]
  },
  {
   "cell_type": "markdown",
   "metadata": {},
   "source": [
    "We can also view this array as an image, first creating a randomized colormap to distinguish the labels better."
   ]
  },
  {
   "cell_type": "code",
   "execution_count": 7,
   "metadata": {},
   "outputs": [
    {
     "data": {
      "text/plain": [
       "<matplotlib.image.AxesImage at 0x1ffff537eb8>"
      ]
     },
     "execution_count": 7,
     "metadata": {},
     "output_type": "execute_result"
    },
    {
     "data": {
      "image/png": "[encoded data removed]",
      "text/plain": [
       "<Figure size 432x288 with 1 Axes>"
      ]
     },
     "metadata": {
      "needs_background": "light"
     },
     "output_type": "display_data"
    }
   ],
   "source": [
    "# Create random colormap for easier viewing\n",
    "vals = np.linspace(.25,1,num_features+1)\n",
    "np.random.shuffle(vals)\n",
    "vals[0] = 0\n",
    "cmap = plt.cm.colors.ListedColormap(plt.cm.jet(vals))\n",
    "\n",
    "# Show the image\n",
    "plt.imshow(X_labeled,cmap=cmap)"
   ]
  },
  {
   "cell_type": "markdown",
   "metadata": {},
   "source": [
    "### Inspecting and using region properties"
   ]
  },
  {
   "cell_type": "code",
   "execution_count": 8,
   "metadata": {},
   "outputs": [
    {
     "name": "stdout",
     "output_type": "stream",
     "text": [
      "[ 9  9  6 39  9  9  6]\n"
     ]
    }
   ],
   "source": [
    "# What are the areas (in pixels) of the regions?\n",
    "print(props['area'])"
   ]
  },
  {
   "cell_type": "code",
   "execution_count": 9,
   "metadata": {},
   "outputs": [
    {
     "data": {
      "text/plain": [
       "array([[ 0, 11],\n",
       "       [ 0, 12],\n",
       "       [ 0, 13],\n",
       "       [ 1, 11],\n",
       "       [ 1, 12],\n",
       "       [ 1, 13],\n",
       "       [ 2, 11],\n",
       "       [ 2, 12],\n",
       "       [ 2, 13]], dtype=int64)"
      ]
     },
     "execution_count": 9,
     "metadata": {},
     "output_type": "execute_result"
    }
   ],
   "source": [
    "# Display the first 10 coordinates of the first region:\n",
    "props['coords'][0][:10]"
   ]
  },
  {
   "cell_type": "markdown",
   "metadata": {},
   "source": [
    "### Creating masks from region properties"
   ]
  },
  {
   "cell_type": "code",
   "execution_count": 10,
   "metadata": {},
   "outputs": [
    {
     "data": {
      "text/plain": [
       "Text(0.5, 1.0, 'Colored by area')"
      ]
     },
     "execution_count": 10,
     "metadata": {},
     "output_type": "execute_result"
    },
    {
     "data": {
      "image/png": "[encoded data removed]",
      "text/plain": [
       "<Figure size 432x288 with 2 Axes>"
      ]
     },
     "metadata": {
      "needs_background": "light"
     },
     "output_type": "display_data"
    }
   ],
   "source": [
    "### Create a mask of region areas:\n",
    "\n",
    "mask = X_labeled.copy()\n",
    "for i in range(num_features):\n",
    "    item_index = props['label'][i]\n",
    "    this_area = props['area'][i]\n",
    "    mask[mask==item_index] = this_area\n",
    "    \n",
    "plt.imshow(mask,cmap='magma')\n",
    "plt.colorbar()\n",
    "plt.title('Colored by area')"
   ]
  },
  {
   "cell_type": "code",
   "execution_count": 11,
   "metadata": {},
   "outputs": [
    {
     "data": {
      "text/plain": [
       "<matplotlib.colorbar.Colorbar at 0x1ffff69f080>"
      ]
     },
     "execution_count": 11,
     "metadata": {},
     "output_type": "execute_result"
    },
    {
     "data": {
      "image/png": "[encoded data removed]",
      "text/plain": [
       "<Figure size 432x288 with 2 Axes>"
      ]
     },
     "metadata": {
      "needs_background": "light"
     },
     "output_type": "display_data"
    }
   ],
   "source": [
    "### Remove anything with an area smaller than a threshold\n",
    "\n",
    "threshold = 10\n",
    "mask[mask<threshold] = 0\n",
    "\n",
    "plt.imshow(mask,cmap='magma')\n",
    "plt.colorbar()"
   ]
  },
  {
   "cell_type": "markdown",
   "metadata": {},
   "source": [
    "### Filtering based on attribute data"
   ]
  },
  {
   "cell_type": "markdown",
   "metadata": {},
   "source": [
    "Alternatively, we could treat the labelled raster in an analogous way to an FID in a shapefile (or index value more generally) and make a selection this way.  It's helpful here to render the table as a pandas dataframe.  <strong>This is generally the preferred method, as it's often much, much faster.</strong>"
   ]
  },
  {
   "cell_type": "code",
   "execution_count": 12,
   "metadata": {},
   "outputs": [
    {
     "data": {
      "text/html": [
       "<div>\n",
       "<style scoped>\n",
       "    .dataframe tbody tr th:only-of-type {\n",
       "        vertical-align: middle;\n",
       "    }\n",
       "\n",
       "    .dataframe tbody tr th {\n",
       "        vertical-align: top;\n",
       "    }\n",
       "\n",
       "    .dataframe thead th {\n",
       "        text-align: right;\n",
       "    }\n",
       "</style>\n",
       "<table border=\"1\" class=\"dataframe\">\n",
       "  <thead>\n",
       "    <tr style=\"text-align: right;\">\n",
       "      <th></th>\n",
       "      <th>label</th>\n",
       "      <th>area</th>\n",
       "      <th>coords</th>\n",
       "    </tr>\n",
       "  </thead>\n",
       "  <tbody>\n",
       "    <tr>\n",
       "      <th>0</th>\n",
       "      <td>1</td>\n",
       "      <td>9</td>\n",
       "      <td>[[0, 11], [0, 12], [0, 13], [1, 11], [1, 12], ...</td>\n",
       "    </tr>\n",
       "    <tr>\n",
       "      <th>1</th>\n",
       "      <td>2</td>\n",
       "      <td>9</td>\n",
       "      <td>[[3, 4], [3, 5], [3, 6], [4, 4], [4, 5], [4, 6...</td>\n",
       "    </tr>\n",
       "    <tr>\n",
       "      <th>2</th>\n",
       "      <td>3</td>\n",
       "      <td>6</td>\n",
       "      <td>[[7, 0], [7, 1], [8, 0], [8, 1], [9, 0], [9, 1]]</td>\n",
       "    </tr>\n",
       "    <tr>\n",
       "      <th>3</th>\n",
       "      <td>4</td>\n",
       "      <td>39</td>\n",
       "      <td>[[7, 9], [7, 10], [7, 11], [8, 9], [8, 10], [8...</td>\n",
       "    </tr>\n",
       "    <tr>\n",
       "      <th>4</th>\n",
       "      <td>5</td>\n",
       "      <td>9</td>\n",
       "      <td>[[10, 5], [10, 6], [10, 7], [11, 5], [11, 6], ...</td>\n",
       "    </tr>\n",
       "    <tr>\n",
       "      <th>5</th>\n",
       "      <td>6</td>\n",
       "      <td>9</td>\n",
       "      <td>[[15, 11], [15, 12], [15, 13], [16, 11], [16, ...</td>\n",
       "    </tr>\n",
       "    <tr>\n",
       "      <th>6</th>\n",
       "      <td>7</td>\n",
       "      <td>6</td>\n",
       "      <td>[[18, 17], [18, 18], [18, 19], [19, 17], [19, ...</td>\n",
       "    </tr>\n",
       "  </tbody>\n",
       "</table>\n",
       "</div>"
      ],
      "text/plain": [
       "   label  area                                             coords\n",
       "0      1     9  [[0, 11], [0, 12], [0, 13], [1, 11], [1, 12], ...\n",
       "1      2     9  [[3, 4], [3, 5], [3, 6], [4, 4], [4, 5], [4, 6...\n",
       "2      3     6   [[7, 0], [7, 1], [8, 0], [8, 1], [9, 0], [9, 1]]\n",
       "3      4    39  [[7, 9], [7, 10], [7, 11], [8, 9], [8, 10], [8...\n",
       "4      5     9  [[10, 5], [10, 6], [10, 7], [11, 5], [11, 6], ...\n",
       "5      6     9  [[15, 11], [15, 12], [15, 13], [16, 11], [16, ...\n",
       "6      7     6  [[18, 17], [18, 18], [18, 19], [19, 17], [19, ..."
      ]
     },
     "execution_count": 12,
     "metadata": {},
     "output_type": "execute_result"
    }
   ],
   "source": [
    "df = pd.DataFrame(props)\n",
    "df"
   ]
  },
  {
   "cell_type": "code",
   "execution_count": 13,
   "metadata": {},
   "outputs": [
    {
     "name": "stdout",
     "output_type": "stream",
     "text": [
      "These values meet the criteria: [1 2 3 5 6 7]\n"
     ]
    },
    {
     "data": {
      "text/plain": [
       "<matplotlib.image.AxesImage at 0x1ffff74d940>"
      ]
     },
     "execution_count": 13,
     "metadata": {},
     "output_type": "execute_result"
    },
    {
     "data": {
      "image/png": "[encoded data removed]",
      "text/plain": [
       "<Figure size 432x288 with 1 Axes>"
      ]
     },
     "metadata": {
      "needs_background": "light"
     },
     "output_type": "display_data"
    }
   ],
   "source": [
    "threshold = 10\n",
    "\n",
    "# Find indices that meet the criteria\n",
    "idx = df[df['area']<threshold]['label'].values\n",
    "print('These values meet the criteria:',idx)\n",
    "\n",
    "# Replace these values with zero\n",
    "mask = X_labeled.copy()\n",
    "mask[np.isin(mask,idx)] = 0\n",
    "\n",
    "# View the mask\n",
    "vals = np.linspace(.25,1,num_features+1)\n",
    "np.random.shuffle(vals)\n",
    "vals[0] = 0\n",
    "cmap = plt.cm.colors.ListedColormap(plt.cm.jet(vals))\n",
    "plt.imshow(mask,cmap=cmap)"
   ]
  },
  {
   "cell_type": "markdown",
   "metadata": {},
   "source": [
    "# Surface Mine Data"
   ]
  },
  {
   "cell_type": "code",
   "execution_count": 14,
   "metadata": {},
   "outputs": [
    {
     "data": {
      "text/plain": [
       "<matplotlib.image.AxesImage at 0x1ff86584160>"
      ]
     },
     "execution_count": 14,
     "metadata": {},
     "output_type": "execute_result"
    },
    {
     "data": {
      "image/png": "[encoded data removed]",
      "text/plain": [
       "<Figure size 720x360 with 2 Axes>"
      ]
     },
     "metadata": {
      "needs_background": "light"
     },
     "output_type": "display_data"
    }
   ],
   "source": [
    "with rasterio.open('data/surface_mine_raster_original_active_sum_clipped.tif') as src:\n",
    "    Z = src.read(1)\n",
    "    Zt = src.transform\n",
    "    cellsize = Zt[0]\n",
    "    profile = src.profile\n",
    "\n",
    "Z_binary = Z > 0\n",
    "    \n",
    "# The original has integer values representing counts, but just show as a binary mask\n",
    "fig = plt.figure(figsize=(10,5))\n",
    "plt.subplot(121)\n",
    "plt.imshow(Z,vmin=0,vmax=5)\n",
    "plt.subplot(122)\n",
    "plt.imshow(Z_binary)"
   ]
  },
  {
   "cell_type": "markdown",
   "metadata": {},
   "source": [
    "### Find regions"
   ]
  },
  {
   "cell_type": "code",
   "execution_count": 15,
   "metadata": {},
   "outputs": [
    {
     "name": "stdout",
     "output_type": "stream",
     "text": [
      "There were 19782 regions\n"
     ]
    }
   ],
   "source": [
    "Z_labeled, num_features = measure.label(Z_binary,connectivity=2,return_num=True)\n",
    "props = measure.regionprops_table(Z_labeled,properties=['label','area','centroid'])\n",
    "\n",
    "# How many regions?\n",
    "print('There were',num_features,'regions')"
   ]
  },
  {
   "cell_type": "code",
   "execution_count": 16,
   "metadata": {},
   "outputs": [
    {
     "name": "stdout",
     "output_type": "stream",
     "text": [
      "14065 have an area less than 5\n"
     ]
    }
   ],
   "source": [
    "# Many of these are very small!  \n",
    "\n",
    "threshold=5  # pixels\n",
    "num_low_area = np.sum(props['area']<threshold)\n",
    "\n",
    "print(num_low_area,'have an area less than',threshold)"
   ]
  },
  {
   "cell_type": "markdown",
   "metadata": {},
   "source": [
    "### Create a copy of the original, but only with areas above a threshold retained"
   ]
  },
  {
   "cell_type": "code",
   "execution_count": 17,
   "metadata": {},
   "outputs": [
    {
     "name": "stdout",
     "output_type": "stream",
     "text": [
      "102 meet the criteria.\n"
     ]
    },
    {
     "data": {
      "text/plain": [
       "<matplotlib.image.AxesImage at 0x1ff8a83c978>"
      ]
     },
     "execution_count": 17,
     "metadata": {},
     "output_type": "execute_result"
    },
    {
     "data": {
      "image/png": "[encoded data removed]",
      "text/plain": [
       "<Figure size 432x288 with 1 Axes>"
      ]
     },
     "metadata": {
      "needs_background": "light"
     },
     "output_type": "display_data"
    }
   ],
   "source": [
    "threshold = 1000  # in pixels\n",
    "\n",
    "df = pd.DataFrame(props)\n",
    "idx = df[df['area']>=threshold]['label'].values\n",
    "print(len(idx),'meet the criteria.')\n",
    "\n",
    "Z_filtered = np.zeros(np.shape(Z),dtype=Z.dtype)\n",
    "mask = np.isin(Z_labeled,idx)\n",
    "Z_filtered[mask] = Z[mask]\n",
    "\n",
    "df_filtered = df[df['area']>=threshold]\n",
    "\n",
    "plt.imshow(Z_filtered)"
   ]
  },
  {
   "cell_type": "markdown",
   "metadata": {},
   "source": [
    "### Write outputs"
   ]
  },
  {
   "cell_type": "code",
   "execution_count": 18,
   "metadata": {},
   "outputs": [],
   "source": [
    "# Write this out to disk\n",
    "\n",
    "with rasterio.open('filtered.tif', 'w', **profile) as dst:\n",
    "    dst.write(Z_filtered, 1)"
   ]
  },
  {
   "cell_type": "code",
   "execution_count": 20,
   "metadata": {
    "scrolled": true
   },
   "outputs": [
    {
     "name": "stderr",
     "output_type": "stream",
     "text": [
      "c:\\Anaconda3\\lib\\site-packages\\ipykernel_launcher.py:2: SettingWithCopyWarning: \n",
      "A value is trying to be set on a copy of a slice from a DataFrame.\n",
      "Try using .loc[row_indexer,col_indexer] = value instead\n",
      "\n",
      "See the caveats in the documentation: http://pandas.pydata.org/pandas-docs/stable/user_guide/indexing.html#returning-a-view-versus-a-copy\n",
      "  \n"
     ]
    }
   ],
   "source": [
    "# Centroids are given in image space, and need to be transformed to map coordinates\n",
    "df_filtered['centroid_x'], df_filtered['centroid_y'] = Zt  * (df_filtered['centroid-1'],df_filtered['centroid-0'])\n",
    "\n",
    "# Write out the results\n",
    "df_filtered.to_csv('centroids.csv',columns=['centroid_x','centroid_y','area'],index=False)"
   ]
  }
 ],
 "metadata": {
  "kernelspec": {
   "display_name": "Python 3",
   "language": "python",
   "name": "python3"
  },
  "language_info": {
   "codemirror_mode": {
    "name": "ipython",
    "version": 3
   },
   "file_extension": ".py",
   "mimetype": "text/x-python",
   "name": "python",
   "nbconvert_exporter": "python",
   "pygments_lexer": "ipython3",
   "version": "3.7.3"
  }
 },
 "nbformat": 4,
 "nbformat_minor": 2
}
