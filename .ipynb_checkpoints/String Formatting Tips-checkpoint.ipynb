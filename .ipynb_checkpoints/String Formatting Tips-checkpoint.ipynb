{
 "cells": [
  {
   "cell_type": "markdown",
   "metadata": {},
   "source": [
    "# String Formatting Tips"
   ]
  },
  {
   "cell_type": "code",
   "execution_count": 2,
   "metadata": {},
   "outputs": [],
   "source": [
    "import pandas as pd\n",
    "import numpy as np"
   ]
  },
  {
   "cell_type": "code",
   "execution_count": 3,
   "metadata": {},
   "outputs": [],
   "source": [
    "# Some sample data\n",
    "\n",
    "x = np.random.rand(10,5)\n",
    "x[:,0] = 1000000 * x[:,0]\n",
    "x[:,1] = 1000 * x[:,1]\n",
    "x[:,3] = .001 * x[:,3]\n",
    "x[:,4] = .000001 * x[:,4]\n",
    "\n",
    "df = pd.DataFrame(x)"
   ]
  },
  {
   "cell_type": "code",
   "execution_count": 4,
   "metadata": {},
   "outputs": [
    {
     "name": "stdout",
     "output_type": "stream",
     "text": [
      "[[2.53895778e+04 7.24265247e+02 2.43807790e-01 9.78334606e-05\n",
      "  5.98117018e-07]\n",
      " [1.28258899e+04 3.69300023e+02 4.52452845e-01 4.89530835e-04\n",
      "  1.01241491e-07]\n",
      " [2.86389641e+05 5.65658753e+02 4.04146138e-01 4.17624894e-04\n",
      "  2.36871777e-07]\n",
      " [1.53351311e+05 3.55891564e+02 6.89722420e-01 3.74713038e-04\n",
      "  7.32469123e-07]\n",
      " [8.89558602e+05 4.94433274e+02 3.49785284e-01 6.47203161e-05\n",
      "  6.77041932e-07]\n",
      " [1.08177416e+05 3.59629933e+02 6.93734745e-01 5.03594008e-04\n",
      "  4.27963691e-07]\n",
      " [4.12008907e+05 1.96754257e+02 4.70057788e-01 5.16341506e-04\n",
      "  4.78926720e-07]\n",
      " [7.41444004e+05 6.74115183e+02 1.08613710e-01 7.65827250e-04\n",
      "  6.51064785e-07]\n",
      " [1.10648667e+05 7.05891343e+02 3.73600347e-01 4.29780317e-04\n",
      "  1.53815759e-07]\n",
      " [5.73103391e+05 3.12768957e+02 9.04718976e-01 2.86749072e-04\n",
      "  8.62602321e-07]]\n"
     ]
    }
   ],
   "source": [
    "print(x)"
   ]
  },
  {
   "cell_type": "code",
   "execution_count": 5,
   "metadata": {},
   "outputs": [
    {
     "data": {
      "text/html": [
       "<div>\n",
       "<style scoped>\n",
       "    .dataframe tbody tr th:only-of-type {\n",
       "        vertical-align: middle;\n",
       "    }\n",
       "\n",
       "    .dataframe tbody tr th {\n",
       "        vertical-align: top;\n",
       "    }\n",
       "\n",
       "    .dataframe thead th {\n",
       "        text-align: right;\n",
       "    }\n",
       "</style>\n",
       "<table border=\"1\" class=\"dataframe\">\n",
       "  <thead>\n",
       "    <tr style=\"text-align: right;\">\n",
       "      <th></th>\n",
       "      <th>0</th>\n",
       "      <th>1</th>\n",
       "      <th>2</th>\n",
       "      <th>3</th>\n",
       "      <th>4</th>\n",
       "    </tr>\n",
       "  </thead>\n",
       "  <tbody>\n",
       "    <tr>\n",
       "      <th>0</th>\n",
       "      <td>25389.577787</td>\n",
       "      <td>724.265247</td>\n",
       "      <td>0.243808</td>\n",
       "      <td>0.000098</td>\n",
       "      <td>5.981170e-07</td>\n",
       "    </tr>\n",
       "    <tr>\n",
       "      <th>1</th>\n",
       "      <td>12825.889888</td>\n",
       "      <td>369.300023</td>\n",
       "      <td>0.452453</td>\n",
       "      <td>0.000490</td>\n",
       "      <td>1.012415e-07</td>\n",
       "    </tr>\n",
       "    <tr>\n",
       "      <th>2</th>\n",
       "      <td>286389.641110</td>\n",
       "      <td>565.658753</td>\n",
       "      <td>0.404146</td>\n",
       "      <td>0.000418</td>\n",
       "      <td>2.368718e-07</td>\n",
       "    </tr>\n",
       "    <tr>\n",
       "      <th>3</th>\n",
       "      <td>153351.311429</td>\n",
       "      <td>355.891564</td>\n",
       "      <td>0.689722</td>\n",
       "      <td>0.000375</td>\n",
       "      <td>7.324691e-07</td>\n",
       "    </tr>\n",
       "    <tr>\n",
       "      <th>4</th>\n",
       "      <td>889558.602064</td>\n",
       "      <td>494.433274</td>\n",
       "      <td>0.349785</td>\n",
       "      <td>0.000065</td>\n",
       "      <td>6.770419e-07</td>\n",
       "    </tr>\n",
       "  </tbody>\n",
       "</table>\n",
       "</div>"
      ],
      "text/plain": [
       "               0           1         2         3             4\n",
       "0   25389.577787  724.265247  0.243808  0.000098  5.981170e-07\n",
       "1   12825.889888  369.300023  0.452453  0.000490  1.012415e-07\n",
       "2  286389.641110  565.658753  0.404146  0.000418  2.368718e-07\n",
       "3  153351.311429  355.891564  0.689722  0.000375  7.324691e-07\n",
       "4  889558.602064  494.433274  0.349785  0.000065  6.770419e-07"
      ]
     },
     "execution_count": 5,
     "metadata": {},
     "output_type": "execute_result"
    }
   ],
   "source": [
    "df.head()"
   ]
  },
  {
   "cell_type": "markdown",
   "metadata": {},
   "source": [
    "# With Numpy"
   ]
  },
  {
   "cell_type": "code",
   "execution_count": 7,
   "metadata": {},
   "outputs": [],
   "source": [
    "np.set_printoptions(precision=3,suppress=True)"
   ]
  },
  {
   "cell_type": "code",
   "execution_count": 8,
   "metadata": {},
   "outputs": [
    {
     "name": "stdout",
     "output_type": "stream",
     "text": [
      "[[ 25389.578    724.265      0.244      0.         0.   ]\n",
      " [ 12825.89     369.3        0.452      0.         0.   ]\n",
      " [286389.641    565.659      0.404      0.         0.   ]\n",
      " [153351.311    355.892      0.69       0.         0.   ]\n",
      " [889558.602    494.433      0.35       0.         0.   ]\n",
      " [108177.416    359.63       0.694      0.001      0.   ]\n",
      " [412008.907    196.754      0.47       0.001      0.   ]\n",
      " [741444.004    674.115      0.109      0.001      0.   ]\n",
      " [110648.667    705.891      0.374      0.         0.   ]\n",
      " [573103.391    312.769      0.905      0.         0.   ]]\n"
     ]
    }
   ],
   "source": [
    "print(x)"
   ]
  },
  {
   "cell_type": "code",
   "execution_count": 9,
   "metadata": {},
   "outputs": [],
   "source": [
    "# Maybe Better Still"
   ]
  },
  {
   "cell_type": "code",
   "execution_count": 10,
   "metadata": {},
   "outputs": [
    {
     "name": "stdout",
     "output_type": "stream",
     "text": [
      "[[ 25389.578  724.265  0.244  0.000  0.000]\n",
      " [ 12825.890  369.300  0.452  0.000  0.000]\n",
      " [ 286389.641  565.659  0.404  0.000  0.000]\n",
      " [ 153351.311  355.892  0.690  0.000  0.000]\n",
      " [ 889558.602  494.433  0.350  0.000  0.000]\n",
      " [ 108177.416  359.630  0.694  0.001  0.000]\n",
      " [ 412008.907  196.754  0.470  0.001  0.000]\n",
      " [ 741444.004  674.115  0.109  0.001  0.000]\n",
      " [ 110648.667  705.891  0.374  0.000  0.000]\n",
      " [ 573103.391  312.769  0.905  0.000  0.000]]\n"
     ]
    }
   ],
   "source": [
    "np.set_printoptions(formatter={'float': '{: 0.3f}'.format})\n",
    "print(x)"
   ]
  },
  {
   "cell_type": "markdown",
   "metadata": {},
   "source": [
    " # With Pandas"
   ]
  },
  {
   "cell_type": "markdown",
   "metadata": {},
   "source": [
    "https://www.geeksforgeeks.org/formatting-integer-column-of-dataframe-in-pandas/"
   ]
  },
  {
   "cell_type": "code",
   "execution_count": 11,
   "metadata": {},
   "outputs": [],
   "source": [
    "pd.options.display.float_format = '{:.2f}'.format"
   ]
  },
  {
   "cell_type": "code",
   "execution_count": 12,
   "metadata": {},
   "outputs": [
    {
     "data": {
      "text/html": [
       "<div>\n",
       "<style scoped>\n",
       "    .dataframe tbody tr th:only-of-type {\n",
       "        vertical-align: middle;\n",
       "    }\n",
       "\n",
       "    .dataframe tbody tr th {\n",
       "        vertical-align: top;\n",
       "    }\n",
       "\n",
       "    .dataframe thead th {\n",
       "        text-align: right;\n",
       "    }\n",
       "</style>\n",
       "<table border=\"1\" class=\"dataframe\">\n",
       "  <thead>\n",
       "    <tr style=\"text-align: right;\">\n",
       "      <th></th>\n",
       "      <th>0</th>\n",
       "      <th>1</th>\n",
       "      <th>2</th>\n",
       "      <th>3</th>\n",
       "      <th>4</th>\n",
       "    </tr>\n",
       "  </thead>\n",
       "  <tbody>\n",
       "    <tr>\n",
       "      <th>0</th>\n",
       "      <td>25389.58</td>\n",
       "      <td>724.27</td>\n",
       "      <td>0.24</td>\n",
       "      <td>0.00</td>\n",
       "      <td>0.00</td>\n",
       "    </tr>\n",
       "    <tr>\n",
       "      <th>1</th>\n",
       "      <td>12825.89</td>\n",
       "      <td>369.30</td>\n",
       "      <td>0.45</td>\n",
       "      <td>0.00</td>\n",
       "      <td>0.00</td>\n",
       "    </tr>\n",
       "    <tr>\n",
       "      <th>2</th>\n",
       "      <td>286389.64</td>\n",
       "      <td>565.66</td>\n",
       "      <td>0.40</td>\n",
       "      <td>0.00</td>\n",
       "      <td>0.00</td>\n",
       "    </tr>\n",
       "    <tr>\n",
       "      <th>3</th>\n",
       "      <td>153351.31</td>\n",
       "      <td>355.89</td>\n",
       "      <td>0.69</td>\n",
       "      <td>0.00</td>\n",
       "      <td>0.00</td>\n",
       "    </tr>\n",
       "    <tr>\n",
       "      <th>4</th>\n",
       "      <td>889558.60</td>\n",
       "      <td>494.43</td>\n",
       "      <td>0.35</td>\n",
       "      <td>0.00</td>\n",
       "      <td>0.00</td>\n",
       "    </tr>\n",
       "    <tr>\n",
       "      <th>5</th>\n",
       "      <td>108177.42</td>\n",
       "      <td>359.63</td>\n",
       "      <td>0.69</td>\n",
       "      <td>0.00</td>\n",
       "      <td>0.00</td>\n",
       "    </tr>\n",
       "    <tr>\n",
       "      <th>6</th>\n",
       "      <td>412008.91</td>\n",
       "      <td>196.75</td>\n",
       "      <td>0.47</td>\n",
       "      <td>0.00</td>\n",
       "      <td>0.00</td>\n",
       "    </tr>\n",
       "    <tr>\n",
       "      <th>7</th>\n",
       "      <td>741444.00</td>\n",
       "      <td>674.12</td>\n",
       "      <td>0.11</td>\n",
       "      <td>0.00</td>\n",
       "      <td>0.00</td>\n",
       "    </tr>\n",
       "    <tr>\n",
       "      <th>8</th>\n",
       "      <td>110648.67</td>\n",
       "      <td>705.89</td>\n",
       "      <td>0.37</td>\n",
       "      <td>0.00</td>\n",
       "      <td>0.00</td>\n",
       "    </tr>\n",
       "    <tr>\n",
       "      <th>9</th>\n",
       "      <td>573103.39</td>\n",
       "      <td>312.77</td>\n",
       "      <td>0.90</td>\n",
       "      <td>0.00</td>\n",
       "      <td>0.00</td>\n",
       "    </tr>\n",
       "  </tbody>\n",
       "</table>\n",
       "</div>"
      ],
      "text/plain": [
       "          0      1    2    3    4\n",
       "0  25389.58 724.27 0.24 0.00 0.00\n",
       "1  12825.89 369.30 0.45 0.00 0.00\n",
       "2 286389.64 565.66 0.40 0.00 0.00\n",
       "3 153351.31 355.89 0.69 0.00 0.00\n",
       "4 889558.60 494.43 0.35 0.00 0.00\n",
       "5 108177.42 359.63 0.69 0.00 0.00\n",
       "6 412008.91 196.75 0.47 0.00 0.00\n",
       "7 741444.00 674.12 0.11 0.00 0.00\n",
       "8 110648.67 705.89 0.37 0.00 0.00\n",
       "9 573103.39 312.77 0.90 0.00 0.00"
      ]
     },
     "execution_count": 12,
     "metadata": {},
     "output_type": "execute_result"
    }
   ],
   "source": [
    "df"
   ]
  }
 ],
 "metadata": {
  "kernelspec": {
   "display_name": "Python 3",
   "language": "python",
   "name": "python3"
  },
  "language_info": {
   "codemirror_mode": {
    "name": "ipython",
    "version": 3
   },
   "file_extension": ".py",
   "mimetype": "text/x-python",
   "name": "python",
   "nbconvert_exporter": "python",
   "pygments_lexer": "ipython3",
   "version": "3.7.0"
  }
 },
 "nbformat": 4,
 "nbformat_minor": 4
}
