{
 "cells": [
  {
   "cell_type": "code",
   "execution_count": 1,
   "metadata": {},
   "outputs": [],
   "source": [
    "import pandas as pd\n",
    "import numpy as np\n",
    "import statsmodels.api as sm\n",
    "import statsmodels.formula.api as smf\n",
    "import matplotlib.pyplot as plt"
   ]
  },
  {
   "cell_type": "markdown",
   "metadata": {},
   "source": [
    "# Objective"
   ]
  },
  {
   "cell_type": "markdown",
   "metadata": {},
   "source": [
    "The objective of this notebook is to demonstrate how to perform a simple regression analysis between a single independent and single dependent variable that you might otherwise do in Excel or SPSS.  We'll explore five different types of fit: "
   ]
  },
  {
   "cell_type": "markdown",
   "metadata": {},
   "source": [
    "# References"
   ]
  },
  {
   "cell_type": "markdown",
   "metadata": {},
   "source": [
    "<UL>\n",
    "<LI><a href=\"https://www.statsmodels.org/dev/examples/notebooks/generated/formulas.html\" target=\"_blank\">Fitting models using R-style formulas</a></LI>\n",
    "<LI><a href=\"https://patsy.readthedocs.io/en/latest/index.html\" target=\"_blank\">Describing statistical models in Python with Patsy</a>.</LI>\n",
    "<LI><a href=\"http://www.real-statistics.com/regression/exponential-regression-models/exponential-regression/\" target=\"_blank\">Exponential Regression Using a Linear Model</a>.</LI>\n",
    "</UL>"
   ]
  },
  {
   "cell_type": "markdown",
   "metadata": {},
   "source": [
    "# Some Simple Data"
   ]
  },
  {
   "cell_type": "code",
   "execution_count": 45,
   "metadata": {},
   "outputs": [
    {
     "data": {
      "text/plain": [
       "<matplotlib.axes._subplots.AxesSubplot at 0x247c9f53518>"
      ]
     },
     "execution_count": 45,
     "metadata": {},
     "output_type": "execute_result"
    },
    {
     "data": {
      "image/png": "[encoded data removed]",
      "text/plain": [
       "<Figure size 432x288 with 1 Axes>"
      ]
     },
     "metadata": {
      "needs_background": "light"
     },
     "output_type": "display_data"
    }
   ],
   "source": [
    "df = pd.DataFrame()\n",
    "df['x'] = [0,1,2,3,4,5]\n",
    "df['y'] = [3,7,10,24,50,95]\n",
    "\n",
    "df.plot.scatter('x','y')"
   ]
  },
  {
   "cell_type": "markdown",
   "metadata": {},
   "source": [
    "# Linear Fitting"
   ]
  },
  {
   "cell_type": "markdown",
   "metadata": {},
   "source": [
    "The simplest regression fits a straight line to the data: y = mx + b.  The regression will then estimate two parameters: the intercept, and the slope of the line."
   ]
  },
  {
   "cell_type": "code",
   "execution_count": 46,
   "metadata": {},
   "outputs": [
    {
     "name": "stdout",
     "output_type": "stream",
     "text": [
      "                            OLS Regression Results                            \n",
      "==============================================================================\n",
      "Dep. Variable:                      y   R-squared:                       0.824\n",
      "Model:                            OLS   Adj. R-squared:                  0.780\n",
      "Method:                 Least Squares   F-statistic:                     18.70\n",
      "Date:                Thu, 28 Mar 2019   Prob (F-statistic):             0.0124\n",
      "Time:                        09:41:28   Log-Likelihood:                -24.178\n",
      "No. Observations:                   6   AIC:                             52.36\n",
      "Df Residuals:                       4   BIC:                             51.94\n",
      "Df Model:                           1                                         \n",
      "Covariance Type:            nonrobust                                         \n",
      "==============================================================================\n",
      "                 coef    std err          t      P>|t|      [0.025      0.975]\n",
      "------------------------------------------------------------------------------\n",
      "Intercept    -11.5714     12.062     -0.959      0.392     -45.062      21.919\n",
      "x             17.2286      3.984      4.324      0.012       6.167      28.290\n",
      "==============================================================================\n",
      "Omnibus:                          nan   Durbin-Watson:                   1.112\n",
      "Prob(Omnibus):                    nan   Jarque-Bera (JB):                0.637\n",
      "Skew:                           0.324   Prob(JB):                        0.727\n",
      "Kurtosis:                       1.541   Cond. No.                         5.78\n",
      "==============================================================================\n",
      "\n",
      "Warnings:\n",
      "[1] Standard Errors assume that the covariance matrix of the errors is correctly specified.\n"
     ]
    },
    {
     "name": "stderr",
     "output_type": "stream",
     "text": [
      "C:\\ProgramData\\Anaconda3\\lib\\site-packages\\statsmodels\\stats\\stattools.py:72: ValueWarning: omni_normtest is not valid with less than 8 observations; 6 samples were given.\n",
      "  \"samples were given.\" % int(n), ValueWarning)\n"
     ]
    },
    {
     "data": {
      "text/plain": [
       "[<matplotlib.lines.Line2D at 0x247c9ee8438>]"
      ]
     },
     "execution_count": 46,
     "metadata": {},
     "output_type": "execute_result"
    },
    {
     "data": {
      "image/png": "[encoded data removed]",
      "text/plain": [
       "<Figure size 432x288 with 1 Axes>"
      ]
     },
     "metadata": {
      "needs_background": "light"
     },
     "output_type": "display_data"
    }
   ],
   "source": [
    "# First we specify the model, then fit the data.  The results object contains MANY features you many want for further analysis,\n",
    "# including residuals, statistics about the fit, etc.  We'll use it to generate a report and then draw a best-fit line.\n",
    "results = smf.ols(formula='y ~ x',data=df).fit()\n",
    "\n",
    "# Print the report\n",
    "print(results.summary())\n",
    "\n",
    "# Plot the results\n",
    "plt.scatter(df['x'],df['y'])\n",
    "# And add a line using OLS results object\n",
    "plt.plot(df['x'],results.predict(df['x']))"
   ]
  },
  {
   "cell_type": "markdown",
   "metadata": {},
   "source": [
    "# Polynomial Fit"
   ]
  },
  {
   "cell_type": "code",
   "execution_count": 47,
   "metadata": {},
   "outputs": [
    {
     "name": "stdout",
     "output_type": "stream",
     "text": [
      "                            OLS Regression Results                            \n",
      "==============================================================================\n",
      "Dep. Variable:                      y   R-squared:                       0.990\n",
      "Model:                            OLS   Adj. R-squared:                  0.984\n",
      "Method:                 Least Squares   F-statistic:                     153.6\n",
      "Date:                Thu, 28 Mar 2019   Prob (F-statistic):           0.000951\n",
      "Time:                        09:41:34   Log-Likelihood:                -15.470\n",
      "No. Observations:                   6   AIC:                             36.94\n",
      "Df Residuals:                       3   BIC:                             36.32\n",
      "Df Model:                           2                                         \n",
      "Covariance Type:            nonrobust                                         \n",
      "==============================================================================\n",
      "                 coef    std err          t      P>|t|      [0.025      0.975]\n",
      "------------------------------------------------------------------------------\n",
      "Intercept      6.1071      4.086      1.495      0.232      -6.897      19.111\n",
      "x             -9.2893      3.844     -2.417      0.094     -21.521       2.943\n",
      "I(x ** 2)      5.3036      0.738      7.188      0.006       2.955       7.652\n",
      "==============================================================================\n",
      "Omnibus:                          nan   Durbin-Watson:                   2.192\n",
      "Prob(Omnibus):                    nan   Jarque-Bera (JB):                0.601\n",
      "Skew:                           0.237   Prob(JB):                        0.741\n",
      "Kurtosis:                       1.524   Cond. No.                         37.8\n",
      "==============================================================================\n",
      "\n",
      "Warnings:\n",
      "[1] Standard Errors assume that the covariance matrix of the errors is correctly specified.\n"
     ]
    },
    {
     "name": "stderr",
     "output_type": "stream",
     "text": [
      "C:\\ProgramData\\Anaconda3\\lib\\site-packages\\statsmodels\\stats\\stattools.py:72: ValueWarning: omni_normtest is not valid with less than 8 observations; 6 samples were given.\n",
      "  \"samples were given.\" % int(n), ValueWarning)\n"
     ]
    },
    {
     "data": {
      "text/plain": [
       "[<matplotlib.lines.Line2D at 0x247c9fa0b00>]"
      ]
     },
     "execution_count": 47,
     "metadata": {},
     "output_type": "execute_result"
    },
    {
     "data": {
      "image/png": "[encoded data removed]",
      "text/plain": [
       "<Figure size 432x288 with 1 Axes>"
      ]
     },
     "metadata": {
      "needs_background": "light"
     },
     "output_type": "display_data"
    }
   ],
   "source": [
    "# The equation here is a bit different: the \"I\" term allows us to specify the math, since the model mini-language Patsy reserves\n",
    "# symbols like \"+\" and \"*\" to do specific work.  They don't operate as you might expect! More information here, if you're \n",
    "# interested: https://www.statsmodels.org/dev/examples/notebooks/generated/formulas.html.  This is a second order polynomial fit,\n",
    "# but can be extended by adding more terms.\n",
    "\n",
    "results = smf.ols(formula='y ~ x + I(x**2)',data=df).fit()\n",
    "\n",
    "# Print the report\n",
    "print(results.summary())\n",
    "\n",
    "# Plot the results\n",
    "plt.scatter(df['x'],df['y'])\n",
    "# And add a line using OLS results object\n",
    "plt.plot(df['x'],results.predict(df['x']))"
   ]
  },
  {
   "cell_type": "markdown",
   "metadata": {},
   "source": [
    "# Exponential Fit"
   ]
  },
  {
   "cell_type": "code",
   "execution_count": 57,
   "metadata": {},
   "outputs": [
    {
     "name": "stdout",
     "output_type": "stream",
     "text": [
      "                            OLS Regression Results                            \n",
      "==============================================================================\n",
      "Dep. Variable:              np.log(y)   R-squared:                       0.993\n",
      "Model:                            OLS   Adj. R-squared:                  0.991\n",
      "Method:                 Least Squares   F-statistic:                     568.4\n",
      "Date:                Thu, 28 Mar 2019   Prob (F-statistic):           1.84e-05\n",
      "Time:                        09:46:11   Log-Likelihood:                 5.3959\n",
      "No. Observations:                   6   AIC:                            -6.792\n",
      "Df Residuals:                       4   BIC:                            -7.208\n",
      "Df Model:                           1                                         \n",
      "Covariance Type:            nonrobust                                         \n",
      "==============================================================================\n",
      "                 coef    std err          t      P>|t|      [0.025      0.975]\n",
      "------------------------------------------------------------------------------\n",
      "Intercept      1.1140      0.087     12.766      0.000       0.872       1.356\n",
      "x              0.6871      0.029     23.841      0.000       0.607       0.767\n",
      "==============================================================================\n",
      "Omnibus:                          nan   Durbin-Watson:                   3.002\n",
      "Prob(Omnibus):                    nan   Jarque-Bera (JB):                0.325\n",
      "Skew:                          -0.568   Prob(JB):                        0.850\n",
      "Kurtosis:                       2.900   Cond. No.                         5.78\n",
      "==============================================================================\n",
      "\n",
      "Warnings:\n",
      "[1] Standard Errors assume that the covariance matrix of the errors is correctly specified.\n"
     ]
    },
    {
     "name": "stderr",
     "output_type": "stream",
     "text": [
      "C:\\ProgramData\\Anaconda3\\lib\\site-packages\\statsmodels\\stats\\stattools.py:72: ValueWarning: omni_normtest is not valid with less than 8 observations; 6 samples were given.\n",
      "  \"samples were given.\" % int(n), ValueWarning)\n"
     ]
    },
    {
     "data": {
      "text/plain": [
       "[<matplotlib.lines.Line2D at 0x247c8bdbfd0>]"
      ]
     },
     "execution_count": 57,
     "metadata": {},
     "output_type": "execute_result"
    },
    {
     "data": {
      "image/png": "[encoded data removed]",
      "text/plain": [
       "<Figure size 432x288 with 1 Axes>"
      ]
     },
     "metadata": {
      "needs_background": "light"
     },
     "output_type": "display_data"
    }
   ],
   "source": [
    "# To fit an exponential model, we take the log of the y-term, and fit our model to that.  See: \n",
    "# http://www.real-statistics.com/regression/exponential-regression-models/exponential-regression \n",
    "# for more information about the ideas behind doing this.  The \n",
    "\n",
    "results = smf.ols(formula='np.log(y) ~ x',data=df).fit()\n",
    "\n",
    "# Print the report\n",
    "print(results.summary())\n",
    "\n",
    "# Plot the results\n",
    "plt.scatter(df['x'],df['y'])\n",
    "# The fit is a bit different, because we had to change the form of our equation (log(y) on the left)\n",
    "fit_y = (results.params[0] * np.e) * np.e**(results.params[1] * df['x'])\n",
    "plt.plot(df['x'],fit_y)"
   ]
  },
  {
   "cell_type": "code",
   "execution_count": 43,
   "metadata": {},
   "outputs": [
    {
     "ename": "TypeError",
     "evalue": "'RegressionResultsWrapper' object does not support indexing",
     "output_type": "error",
     "traceback": [
      "\u001b[1;31m---------------------------------------------------------------------------\u001b[0m",
      "\u001b[1;31mTypeError\u001b[0m                                 Traceback (most recent call last)",
      "\u001b[1;32m<ipython-input-43-c06465371813>\u001b[0m in \u001b[0;36m<module>\u001b[1;34m()\u001b[0m\n\u001b[1;32m----> 1\u001b[1;33m \u001b[0mresults\u001b[0m\u001b[1;33m.\u001b[0m\u001b[0mparams\u001b[0m\u001b[1;33m[\u001b[0m\u001b[1;36m0\u001b[0m\u001b[1;33m]\u001b[0m\u001b[1;33m(\u001b[0m\u001b[1;33m(\u001b[0m\u001b[0mnp\u001b[0m\u001b[1;33m.\u001b[0m\u001b[0me\u001b[0m \u001b[1;33m*\u001b[0m \u001b[0mresults\u001b[0m\u001b[1;33m[\u001b[0m\u001b[1;36m0\u001b[0m\u001b[1;33m]\u001b[0m\u001b[1;33m)\u001b[0m \u001b[1;33m**\u001b[0m \u001b[0mdf\u001b[0m\u001b[1;33m[\u001b[0m\u001b[1;34m'x'\u001b[0m\u001b[1;33m]\u001b[0m\u001b[1;33m)\u001b[0m\u001b[1;33m\u001b[0m\u001b[0m\n\u001b[0m",
      "\u001b[1;31mTypeError\u001b[0m: 'RegressionResultsWrapper' object does not support indexing"
     ]
    }
   ],
   "source": [
    "results.params[0]((np.e * results[0]) ** df['x'])"
   ]
  },
  {
   "cell_type": "code",
   "execution_count": 56,
   "metadata": {},
   "outputs": [
    {
     "data": {
      "text/plain": [
       "0     3.028104\n",
       "1     6.019975\n",
       "2    11.967920\n",
       "3    23.792641\n",
       "4    47.300596\n",
       "5    94.035228\n",
       "Name: x, dtype: float64"
      ]
     },
     "execution_count": 56,
     "metadata": {},
     "output_type": "execute_result"
    }
   ],
   "source": [
    "(results.params[0] * np.e) * np.e**(results.params[1] * df['x'])"
   ]
  }
 ],
 "metadata": {
  "kernelspec": {
   "display_name": "Python 3",
   "language": "python",
   "name": "python3"
  },
  "language_info": {
   "codemirror_mode": {
    "name": "ipython",
    "version": 3
   },
   "file_extension": ".py",
   "mimetype": "text/x-python",
   "name": "python",
   "nbconvert_exporter": "python",
   "pygments_lexer": "ipython3",
   "version": "3.7.0"
  }
 },
 "nbformat": 4,
 "nbformat_minor": 2
}
