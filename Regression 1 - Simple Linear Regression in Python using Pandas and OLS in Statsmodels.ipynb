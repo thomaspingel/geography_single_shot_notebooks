{
 "cells": [
  {
   "cell_type": "code",
   "execution_count": 3,
   "metadata": {},
   "outputs": [],
   "source": [
    "import pandas as pd\n",
    "import numpy as np\n",
    "import statsmodels.api as sm\n",
    "import statsmodels.formula.api as smf\n",
    "import matplotlib.pyplot as plt"
   ]
  },
  {
   "cell_type": "markdown",
   "metadata": {},
   "source": [
    "# Objective"
   ]
  },
  {
   "cell_type": "markdown",
   "metadata": {},
   "source": [
    "The objective of this notebook is to demonstrate how to perform a simple regression analysis between a single independent and single dependent variable that you might otherwise do in Excel or SPSS.  We'll explore five different types of fit: linear, polynomial, exponential, logarithmic, and power."
   ]
  },
  {
   "cell_type": "markdown",
   "metadata": {},
   "source": [
    "# References"
   ]
  },
  {
   "cell_type": "markdown",
   "metadata": {},
   "source": [
    "<UL>\n",
    "<LI><a href=\"https://www.statsmodels.org/dev/examples/notebooks/generated/formulas.html\" target=\"_blank\">Fitting models using R-style formulas</a></LI>\n",
    "<LI><a href=\"https://patsy.readthedocs.io/en/latest/index.html\" target=\"_blank\">Describing statistical models in Python with Patsy</a>.</LI>\n",
    "<LI><a href=\"http://www.real-statistics.com/regression/exponential-regression-models/exponential-regression/\" target=\"_blank\">Exponential Regression Using a Linear Model</a>.</LI>\n",
    "<LI><a href=\"http://www.unm.edu/~marcusj/Regression2.pdf\" target=\"_blank\">Model fitting with linear regression: power models</a></LI>\n",
    "</UL>"
   ]
  },
  {
   "cell_type": "markdown",
   "metadata": {},
   "source": [
    "# Some Simple Data"
   ]
  },
  {
   "cell_type": "code",
   "execution_count": 45,
   "metadata": {},
   "outputs": [
    {
     "data": {
      "text/plain": [
       "<matplotlib.axes._subplots.AxesSubplot at 0x247c9f53518>"
      ]
     },
     "execution_count": 45,
     "metadata": {},
     "output_type": "execute_result"
    },
    {
     "data": {
      "image/png": "[encoded data removed]",
      "text/plain": [
       "<Figure size 432x288 with 1 Axes>"
      ]
     },
     "metadata": {
      "needs_background": "light"
     },
     "output_type": "display_data"
    }
   ],
   "source": [
    "df = pd.DataFrame()\n",
    "df['x'] = [0,1,2,3,4,5]\n",
    "df['y'] = [3,7,10,24,50,95]\n",
    "\n",
    "df.plot.scatter('x','y')"
   ]
  },
  {
   "cell_type": "markdown",
   "metadata": {},
   "source": [
    "# Linear Fitting"
   ]
  },
  {
   "cell_type": "markdown",
   "metadata": {},
   "source": [
    "The simplest regression fits a straight line to the data: y = mx + b.  The regression will then estimate two parameters: the intercept, and the slope of the line."
   ]
  },
  {
   "cell_type": "code",
   "execution_count": 46,
   "metadata": {},
   "outputs": [
    {
     "name": "stdout",
     "output_type": "stream",
     "text": [
      "                            OLS Regression Results                            \n",
      "==============================================================================\n",
      "Dep. Variable:                      y   R-squared:                       0.824\n",
      "Model:                            OLS   Adj. R-squared:                  0.780\n",
      "Method:                 Least Squares   F-statistic:                     18.70\n",
      "Date:                Thu, 28 Mar 2019   Prob (F-statistic):             0.0124\n",
      "Time:                        09:41:28   Log-Likelihood:                -24.178\n",
      "No. Observations:                   6   AIC:                             52.36\n",
      "Df Residuals:                       4   BIC:                             51.94\n",
      "Df Model:                           1                                         \n",
      "Covariance Type:            nonrobust                                         \n",
      "==============================================================================\n",
      "                 coef    std err          t      P>|t|      [0.025      0.975]\n",
      "------------------------------------------------------------------------------\n",
      "Intercept    -11.5714     12.062     -0.959      0.392     -45.062      21.919\n",
      "x             17.2286      3.984      4.324      0.012       6.167      28.290\n",
      "==============================================================================\n",
      "Omnibus:                          nan   Durbin-Watson:                   1.112\n",
      "Prob(Omnibus):                    nan   Jarque-Bera (JB):                0.637\n",
      "Skew:                           0.324   Prob(JB):                        0.727\n",
      "Kurtosis:                       1.541   Cond. No.                         5.78\n",
      "==============================================================================\n",
      "\n",
      "Warnings:\n",
      "[1] Standard Errors assume that the covariance matrix of the errors is correctly specified.\n"
     ]
    },
    {
     "name": "stderr",
     "output_type": "stream",
     "text": [
      "C:\\ProgramData\\Anaconda3\\lib\\site-packages\\statsmodels\\stats\\stattools.py:72: ValueWarning: omni_normtest is not valid with less than 8 observations; 6 samples were given.\n",
      "  \"samples were given.\" % int(n), ValueWarning)\n"
     ]
    },
    {
     "data": {
      "text/plain": [
       "[<matplotlib.lines.Line2D at 0x247c9ee8438>]"
      ]
     },
     "execution_count": 46,
     "metadata": {},
     "output_type": "execute_result"
    },
    {
     "data": {
      "image/png": "[encoded data removed]",
      "text/plain": [
       "<Figure size 432x288 with 1 Axes>"
      ]
     },
     "metadata": {
      "needs_background": "light"
     },
     "output_type": "display_data"
    }
   ],
   "source": [
    "# First we specify the model, then fit the data.  The results object contains MANY features you many want for further analysis,\n",
    "# including residuals, statistics about the fit, etc.  We'll use it to generate a report and then draw a best-fit line.\n",
    "results = smf.ols(formula='y ~ x',data=df).fit()\n",
    "\n",
    "# Print the report\n",
    "print(results.summary())\n",
    "\n",
    "# Plot the results\n",
    "plt.scatter(df['x'],df['y'])\n",
    "# And add a line using OLS results object\n",
    "plt.plot(df['x'],results.predict(df['x']))"
   ]
  },
  {
   "cell_type": "markdown",
   "metadata": {},
   "source": [
    "# Polynomial Fit"
   ]
  },
  {
   "cell_type": "code",
   "execution_count": 47,
   "metadata": {},
   "outputs": [
    {
     "name": "stdout",
     "output_type": "stream",
     "text": [
      "                            OLS Regression Results                            \n",
      "==============================================================================\n",
      "Dep. Variable:                      y   R-squared:                       0.990\n",
      "Model:                            OLS   Adj. R-squared:                  0.984\n",
      "Method:                 Least Squares   F-statistic:                     153.6\n",
      "Date:                Thu, 28 Mar 2019   Prob (F-statistic):           0.000951\n",
      "Time:                        09:41:34   Log-Likelihood:                -15.470\n",
      "No. Observations:                   6   AIC:                             36.94\n",
      "Df Residuals:                       3   BIC:                             36.32\n",
      "Df Model:                           2                                         \n",
      "Covariance Type:            nonrobust                                         \n",
      "==============================================================================\n",
      "                 coef    std err          t      P>|t|      [0.025      0.975]\n",
      "------------------------------------------------------------------------------\n",
      "Intercept      6.1071      4.086      1.495      0.232      -6.897      19.111\n",
      "x             -9.2893      3.844     -2.417      0.094     -21.521       2.943\n",
      "I(x ** 2)      5.3036      0.738      7.188      0.006       2.955       7.652\n",
      "==============================================================================\n",
      "Omnibus:                          nan   Durbin-Watson:                   2.192\n",
      "Prob(Omnibus):                    nan   Jarque-Bera (JB):                0.601\n",
      "Skew:                           0.237   Prob(JB):                        0.741\n",
      "Kurtosis:                       1.524   Cond. No.                         37.8\n",
      "==============================================================================\n",
      "\n",
      "Warnings:\n",
      "[1] Standard Errors assume that the covariance matrix of the errors is correctly specified.\n"
     ]
    },
    {
     "name": "stderr",
     "output_type": "stream",
     "text": [
      "C:\\ProgramData\\Anaconda3\\lib\\site-packages\\statsmodels\\stats\\stattools.py:72: ValueWarning: omni_normtest is not valid with less than 8 observations; 6 samples were given.\n",
      "  \"samples were given.\" % int(n), ValueWarning)\n"
     ]
    },
    {
     "data": {
      "text/plain": [
       "[<matplotlib.lines.Line2D at 0x247c9fa0b00>]"
      ]
     },
     "execution_count": 47,
     "metadata": {},
     "output_type": "execute_result"
    },
    {
     "data": {
      "image/png": "[encoded data removed]",
      "text/plain": [
       "<Figure size 432x288 with 1 Axes>"
      ]
     },
     "metadata": {
      "needs_background": "light"
     },
     "output_type": "display_data"
    }
   ],
   "source": [
    "# The equation here is a bit different: the \"I\" term allows us to specify the math, since the model mini-language Patsy reserves\n",
    "# symbols like \"+\" and \"*\" to do specific work.  They don't operate as you might expect! More information here, if you're \n",
    "# interested: https://www.statsmodels.org/dev/examples/notebooks/generated/formulas.html.  This is a second order polynomial fit,\n",
    "# but can be extended by adding more terms.\n",
    "\n",
    "results = smf.ols(formula='y ~ x + I(x**2)',data=df).fit()\n",
    "\n",
    "# Print the report\n",
    "print(results.summary())\n",
    "\n",
    "# Plot the results\n",
    "plt.scatter(df['x'],df['y'])\n",
    "# And add a line using OLS results object\n",
    "plt.plot(df['x'],results.predict(df['x']))"
   ]
  },
  {
   "cell_type": "markdown",
   "metadata": {},
   "source": [
    "# Exponential Fit"
   ]
  },
  {
   "cell_type": "code",
   "execution_count": 57,
   "metadata": {},
   "outputs": [
    {
     "name": "stdout",
     "output_type": "stream",
     "text": [
      "                            OLS Regression Results                            \n",
      "==============================================================================\n",
      "Dep. Variable:              np.log(y)   R-squared:                       0.993\n",
      "Model:                            OLS   Adj. R-squared:                  0.991\n",
      "Method:                 Least Squares   F-statistic:                     568.4\n",
      "Date:                Thu, 28 Mar 2019   Prob (F-statistic):           1.84e-05\n",
      "Time:                        09:46:11   Log-Likelihood:                 5.3959\n",
      "No. Observations:                   6   AIC:                            -6.792\n",
      "Df Residuals:                       4   BIC:                            -7.208\n",
      "Df Model:                           1                                         \n",
      "Covariance Type:            nonrobust                                         \n",
      "==============================================================================\n",
      "                 coef    std err          t      P>|t|      [0.025      0.975]\n",
      "------------------------------------------------------------------------------\n",
      "Intercept      1.1140      0.087     12.766      0.000       0.872       1.356\n",
      "x              0.6871      0.029     23.841      0.000       0.607       0.767\n",
      "==============================================================================\n",
      "Omnibus:                          nan   Durbin-Watson:                   3.002\n",
      "Prob(Omnibus):                    nan   Jarque-Bera (JB):                0.325\n",
      "Skew:                          -0.568   Prob(JB):                        0.850\n",
      "Kurtosis:                       2.900   Cond. No.                         5.78\n",
      "==============================================================================\n",
      "\n",
      "Warnings:\n",
      "[1] Standard Errors assume that the covariance matrix of the errors is correctly specified.\n"
     ]
    },
    {
     "name": "stderr",
     "output_type": "stream",
     "text": [
      "C:\\ProgramData\\Anaconda3\\lib\\site-packages\\statsmodels\\stats\\stattools.py:72: ValueWarning: omni_normtest is not valid with less than 8 observations; 6 samples were given.\n",
      "  \"samples were given.\" % int(n), ValueWarning)\n"
     ]
    },
    {
     "data": {
      "text/plain": [
       "[<matplotlib.lines.Line2D at 0x247c8bdbfd0>]"
      ]
     },
     "execution_count": 57,
     "metadata": {},
     "output_type": "execute_result"
    },
    {
     "data": {
      "image/png": "[encoded data removed]",
      "text/plain": [
       "<Figure size 432x288 with 1 Axes>"
      ]
     },
     "metadata": {
      "needs_background": "light"
     },
     "output_type": "display_data"
    }
   ],
   "source": [
    "# To fit an exponential model, we take the log of the y-term, and fit our model to that.  See: \n",
    "# http://www.real-statistics.com/regression/exponential-regression-models/exponential-regression \n",
    "# for more information about the ideas behind doing this.\n",
    "\n",
    "results = smf.ols(formula='np.log(y) ~ x',data=df).fit()\n",
    "\n",
    "# Print the report\n",
    "print(results.summary())\n",
    "\n",
    "# Plot the results\n",
    "plt.scatter(df['x'],df['y'])\n",
    "# The fit is a bit different, because we had to change the form of our equation (log(y) on the left)\n",
    "fit_y = (results.params[0] * np.e) * np.e**(results.params[1] * df['x'])\n",
    "plt.plot(df['x'],fit_y)"
   ]
  },
  {
   "cell_type": "markdown",
   "metadata": {},
   "source": [
    "# Logarithmic fit"
   ]
  },
  {
   "cell_type": "code",
   "execution_count": 34,
   "metadata": {},
   "outputs": [
    {
     "name": "stdout",
     "output_type": "stream",
     "text": [
      "                            OLS Regression Results                            \n",
      "==============================================================================\n",
      "Dep. Variable:                      y   R-squared:                       0.986\n",
      "Model:                            OLS   Adj. R-squared:                  0.985\n",
      "Method:                 Least Squares   F-statistic:                     648.2\n",
      "Date:                Thu, 28 Mar 2019   Prob (F-statistic):           1.07e-09\n",
      "Time:                        21:48:53   Log-Likelihood:                -8.2301\n",
      "No. Observations:                  11   AIC:                             20.46\n",
      "Df Residuals:                       9   BIC:                             21.26\n",
      "Df Model:                           1                                         \n",
      "Covariance Type:            nonrobust                                         \n",
      "==============================================================================\n",
      "                 coef    std err          t      P>|t|      [0.025      0.975]\n",
      "------------------------------------------------------------------------------\n",
      "Intercept      6.0993      0.418     14.590      0.000       5.154       7.045\n",
      "np.log(x)      6.1082      0.240     25.460      0.000       5.565       6.651\n",
      "==============================================================================\n",
      "Omnibus:                        1.706   Durbin-Watson:                   0.785\n",
      "Prob(Omnibus):                  0.426   Jarque-Bera (JB):                1.234\n",
      "Skew:                          -0.689   Prob(JB):                        0.539\n",
      "Kurtosis:                       2.110   Cond. No.                         5.50\n",
      "==============================================================================\n",
      "\n",
      "Warnings:\n",
      "[1] Standard Errors assume that the covariance matrix of the errors is correctly specified.\n"
     ]
    },
    {
     "name": "stderr",
     "output_type": "stream",
     "text": [
      "C:\\ProgramData\\Anaconda3\\lib\\site-packages\\scipy\\stats\\stats.py:1394: UserWarning: kurtosistest only valid for n>=20 ... continuing anyway, n=11\n",
      "  \"anyway, n=%i\" % int(n))\n"
     ]
    },
    {
     "data": {
      "text/plain": [
       "[<matplotlib.lines.Line2D at 0x177cd189518>]"
      ]
     },
     "execution_count": 34,
     "metadata": {},
     "output_type": "execute_result"
    },
    {
     "data": {
      "image/png": "[encoded data removed]",
      "text/plain": [
       "<Figure size 432x288 with 1 Axes>"
      ]
     },
     "metadata": {
      "needs_background": "light"
     },
     "output_type": "display_data"
    }
   ],
   "source": [
    "# This model functions similarly to the exponential model above, but this time it's the x-term to which the log is applied\n",
    "df = pd.DataFrame()\n",
    "df['x'] = [1,2,3,4,5,6,7,8,9,10,11]\n",
    "df['y'] = [6,9.5,13,15,16.5,17.5,18.5,19,19.5,19.7,19.8]\n",
    "\n",
    "# To fit this type of regression, we take the log of both sides\n",
    "results = smf.ols(formula='y ~ np.log(x)',data=df).fit()\n",
    "\n",
    "# Print the report\n",
    "print(results.summary())\n",
    "\n",
    "# Plot the results, crafting a fit_y based on the model\n",
    "plt.scatter(df['x'],df['y'])\n",
    "fit_y = results.params[0] + results.params[1] * np.log(df['x'])\n",
    "plt.plot(df['x'],fit_y)"
   ]
  },
  {
   "cell_type": "markdown",
   "metadata": {},
   "source": [
    "# Power fit"
   ]
  },
  {
   "cell_type": "code",
   "execution_count": 28,
   "metadata": {},
   "outputs": [
    {
     "name": "stdout",
     "output_type": "stream",
     "text": [
      "                            OLS Regression Results                            \n",
      "==============================================================================\n",
      "Dep. Variable:              np.log(y)   R-squared:                       0.994\n",
      "Model:                            OLS   Adj. R-squared:                  0.994\n",
      "Method:                 Least Squares   F-statistic:                     3810.\n",
      "Date:                Thu, 28 Mar 2019   Prob (F-statistic):           4.64e-27\n",
      "Time:                        21:33:36   Log-Likelihood:                 23.041\n",
      "No. Observations:                  25   AIC:                            -42.08\n",
      "Df Residuals:                      23   BIC:                            -39.64\n",
      "Df Model:                           1                                         \n",
      "Covariance Type:            nonrobust                                         \n",
      "==============================================================================\n",
      "                 coef    std err          t      P>|t|      [0.025      0.975]\n",
      "------------------------------------------------------------------------------\n",
      "Intercept      4.2409      0.032    130.955      0.000       4.174       4.308\n",
      "np.log(x)      0.7599      0.012     61.724      0.000       0.734       0.785\n",
      "==============================================================================\n",
      "Omnibus:                        7.451   Durbin-Watson:                   2.089\n",
      "Prob(Omnibus):                  0.024   Jarque-Bera (JB):                9.412\n",
      "Skew:                          -0.298   Prob(JB):                      0.00904\n",
      "Kurtosis:                       5.946   Cond. No.                         4.64\n",
      "==============================================================================\n",
      "\n",
      "Warnings:\n",
      "[1] Standard Errors assume that the covariance matrix of the errors is correctly specified.\n"
     ]
    },
    {
     "data": {
      "text/plain": [
       "[<matplotlib.lines.Line2D at 0x177ccea6198>]"
      ]
     },
     "execution_count": 28,
     "metadata": {},
     "output_type": "execute_result"
    },
    {
     "data": {
      "image/png": "[encoded data removed]",
      "text/plain": [
       "<Figure size 432x288 with 1 Axes>"
      ]
     },
     "metadata": {
      "needs_background": "light"
     },
     "output_type": "display_data"
    }
   ],
   "source": [
    "# This time the data come from Leonard and Robinson (1997) as cited by Marcus Hamilton \n",
    "# (http://www.unm.edu/~marcusj/Regression2.pdf)\n",
    "\n",
    "df = pd.DataFrame()\n",
    "df['x'] = [8.5,6.4,0.85,8.41,0.7,2.6,2.4,0.4,0.3,0.8,7.9,7,5.5, 29.3,13,6,39.5,29.8,83.6,37.8,10.5,46,41,59.6,51.8]\n",
    "df['y'] = [363,293,46,346,54,143,135,35,28,66,327,265,331,956,520,292,1036,839,1948,1074,408,1383,1099,1591,1394]\n",
    "df = df.sort_values(by='x')\n",
    "\n",
    "# To fit this type of regression, we take the log of both sides\n",
    "results = smf.ols(formula='np.log(y) ~ np.log(x)',data=df).fit()\n",
    "\n",
    "# Print the report\n",
    "print(results.summary())\n",
    "\n",
    "# Plot the results, crafting a fit_y based on the model\n",
    "plt.scatter(df['x'],df['y'])\n",
    "fit_y = np.e**results.params[0] * (df['x'] ** results.params[1])\n",
    "plt.plot(df['x'],fit_y)"
   ]
  }
 ],
 "metadata": {
  "kernelspec": {
   "display_name": "Python 3",
   "language": "python",
   "name": "python3"
  },
  "language_info": {
   "codemirror_mode": {
    "name": "ipython",
    "version": 3
   },
   "file_extension": ".py",
   "mimetype": "text/x-python",
   "name": "python",
   "nbconvert_exporter": "python",
   "pygments_lexer": "ipython3",
   "version": "3.7.0"
  }
 },
 "nbformat": 4,
 "nbformat_minor": 2
}
