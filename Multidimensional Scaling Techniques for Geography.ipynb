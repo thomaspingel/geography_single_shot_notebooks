{
 "cells": [
  {
   "cell_type": "markdown",
   "metadata": {},
   "source": [
    "One of my favorite problems in geography comes from Waldo Tobler as an interesting presentation of how multidimensional scaling techniques can be used to make sense of pairwise similarities and disimilarities.  You can find a presentation of this among his work, including the excellent summary of quite a few of the projects that he's worked on in <a href='http://www.geog.ucsb.edu/~tobler/presentations/Visualizing-spatial-analysis.pdf'>Visualizing Spatial Analysis</a>.  A published application of it can be found in <a href='http://www.geog.ucsb.edu/~tobler/publications/pdf_docs/Cappadocian-Speculation.pdf'>A Cappadocian Speculation</a>.  Tobler references a student that took the table of distances located in a road atlas and use that to estimate coordinates."
   ]
  },
  {
   "cell_type": "markdown",
   "metadata": {},
   "source": [
    "Using data from <a href=\"http://www.mileage-charts.com\">mileage-charts.com</a>, I thought I'd try to do the same.  I used the data here: http://d2de2ara2gq9zz.cloudfront.net/mc/NA/US/US.xlsx as the basis for these examples."
   ]
  },
  {
   "cell_type": "code",
   "execution_count": 33,
   "metadata": {
    "collapsed": true
   },
   "outputs": [],
   "source": [
    "import pandas as pd\n",
    "import numpy as np\n",
    "import matplotlib.pyplot as plt\n",
    "from sklearn import manifold\n",
    "\n",
    "np.set_printoptions(precision=2)\n",
    "%matplotlib inline"
   ]
  },
  {
   "cell_type": "code",
   "execution_count": 34,
   "metadata": {
    "collapsed": true
   },
   "outputs": [],
   "source": [
    "# Load the data, using the first column as the index.\n",
    "df = pd.read_excel('data/US.xlsx',index_col=0)"
   ]
  },
  {
   "cell_type": "code",
   "execution_count": 35,
   "metadata": {
    "collapsed": false
   },
   "outputs": [
    {
     "data": {
      "text/plain": [
       "(1000, 1000)"
      ]
     },
     "execution_count": 35,
     "metadata": {},
     "output_type": "execute_result"
    }
   ],
   "source": [
    "# This is a big file!  A matrix of the distances between 1,000 cities.\n",
    "np.shape(df)"
   ]
  },
  {
   "cell_type": "code",
   "execution_count": 36,
   "metadata": {
    "collapsed": false
   },
   "outputs": [],
   "source": [
    "# 1,000 cities is a lot to visualize, so let's just take 25 at random\n",
    "n_cities = 25\n",
    "np.random.seed(3)\n",
    "ridx = np.random.choice(len(df),n_cities,replace=False)\n",
    "rdf = df.ix[ridx,ridx]"
   ]
  },
  {
   "cell_type": "code",
   "execution_count": 38,
   "metadata": {
    "collapsed": false
   },
   "outputs": [
    {
     "data": {
      "text/html": [
       "<div>\n",
       "<table border=\"1\" class=\"dataframe\">\n",
       "  <thead>\n",
       "    <tr style=\"text-align: right;\">\n",
       "      <th></th>\n",
       "      <th>Orange, CA</th>\n",
       "      <th>Rowlett, TX</th>\n",
       "      <th>Tucson, AZ</th>\n",
       "      <th>Concord, CA</th>\n",
       "      <th>Napa, CA</th>\n",
       "    </tr>\n",
       "    <tr>\n",
       "      <th></th>\n",
       "      <th></th>\n",
       "      <th></th>\n",
       "      <th></th>\n",
       "      <th></th>\n",
       "      <th></th>\n",
       "    </tr>\n",
       "  </thead>\n",
       "  <tbody>\n",
       "    <tr>\n",
       "      <th>Orange, CA</th>\n",
       "      <td>NaN</td>\n",
       "      <td>1436.568294</td>\n",
       "      <td>468.285559</td>\n",
       "      <td>399.966548</td>\n",
       "      <td>429.326281</td>\n",
       "    </tr>\n",
       "    <tr>\n",
       "      <th>Rowlett, TX</th>\n",
       "      <td>1436.772724</td>\n",
       "      <td>NaN</td>\n",
       "      <td>968.860609</td>\n",
       "      <td>1728.980045</td>\n",
       "      <td>1758.339777</td>\n",
       "    </tr>\n",
       "    <tr>\n",
       "      <th>Tucson, AZ</th>\n",
       "      <td>468.264432</td>\n",
       "      <td>967.709832</td>\n",
       "      <td>NaN</td>\n",
       "      <td>853.576590</td>\n",
       "      <td>882.935702</td>\n",
       "    </tr>\n",
       "    <tr>\n",
       "      <th>Concord, CA</th>\n",
       "      <td>400.161659</td>\n",
       "      <td>1729.785340</td>\n",
       "      <td>854.054424</td>\n",
       "      <td>NaN</td>\n",
       "      <td>31.819736</td>\n",
       "    </tr>\n",
       "    <tr>\n",
       "      <th>Napa, CA</th>\n",
       "      <td>428.025754</td>\n",
       "      <td>1757.649435</td>\n",
       "      <td>881.918519</td>\n",
       "      <td>31.057315</td>\n",
       "      <td>NaN</td>\n",
       "    </tr>\n",
       "  </tbody>\n",
       "</table>\n",
       "</div>"
      ],
      "text/plain": [
       "              Orange, CA  Rowlett, TX  Tucson, AZ  Concord, CA     Napa, CA\n",
       "                                                                           \n",
       "Orange, CA           NaN  1436.568294  468.285559   399.966548   429.326281\n",
       "Rowlett, TX  1436.772724          NaN  968.860609  1728.980045  1758.339777\n",
       "Tucson, AZ    468.264432   967.709832         NaN   853.576590   882.935702\n",
       "Concord, CA   400.161659  1729.785340  854.054424          NaN    31.819736\n",
       "Napa, CA      428.025754  1757.649435  881.918519    31.057315          NaN"
      ]
     },
     "execution_count": 38,
     "metadata": {},
     "output_type": "execute_result"
    }
   ],
   "source": [
    "# Let's look at the first five\n",
    "rdf.ix[:5,:5]"
   ]
  },
  {
   "cell_type": "markdown",
   "metadata": {},
   "source": [
    "Notice that the distances are a bit asymmetric (e.g., the distance between Abilene and Akron is not the same as the distance between Akron and Abilene.).  The table has NaNs between same-same pairs.  For convenience, we might set those equal to zero."
   ]
  },
  {
   "cell_type": "code",
   "execution_count": 39,
   "metadata": {
    "collapsed": false
   },
   "outputs": [
    {
     "name": "stdout",
     "output_type": "stream",
     "text": [
      "[[    0.    1436.57   468.29   399.97   429.33]\n",
      " [ 1436.77     0.     968.86  1728.98  1758.34]\n",
      " [  468.26   967.71     0.     853.58   882.94]\n",
      " [  400.16  1729.79   854.05     0.      31.82]\n",
      " [  428.03  1757.65   881.92    31.06     0.  ]]\n"
     ]
    }
   ],
   "source": [
    "# Define a distance matrix:\n",
    "D = rdf.values\n",
    "D[np.diag_indices(len(D))] = 0\n",
    "print(D[:5,:5])"
   ]
  },
  {
   "cell_type": "markdown",
   "metadata": {},
   "source": [
    "The multidimensional scaling algorithm can handle usually handle these asymmetries just fine, but what if your application doesn't (or you don't want to consider it)?  We can add the transpose of the matrix and divide by two to get the mean."
   ]
  },
  {
   "cell_type": "code",
   "execution_count": 40,
   "metadata": {
    "collapsed": false
   },
   "outputs": [
    {
     "name": "stdout",
     "output_type": "stream",
     "text": [
      "[[    0.    1436.67   468.27   400.06   428.68]\n",
      " [ 1436.67     0.     968.29  1729.38  1757.99]\n",
      " [  468.27   968.29     0.     853.82   882.43]\n",
      " [  400.06  1729.38   853.82     0.      31.44]\n",
      " [  428.68  1757.99   882.43    31.44     0.  ]]\n"
     ]
    }
   ],
   "source": [
    "D = (D + D.T) / 2\n",
    "print(D[:5,:5])"
   ]
  },
  {
   "cell_type": "code",
   "execution_count": 41,
   "metadata": {
    "collapsed": false
   },
   "outputs": [
    {
     "data": {
      "text/plain": [
       "array([[-1573.74,   258.03],\n",
       "       [ -236.7 ,  -258.99],\n",
       "       [-1190.69,   -32.38],\n",
       "       [-1727.55,   642.62],\n",
       "       [-1725.29,   681.61],\n",
       "       [  560.54,  -255.08],\n",
       "       [  827.5 ,  -690.41],\n",
       "       [-1570.54,   282.01],\n",
       "       [ 1160.3 ,   346.4 ],\n",
       "       [  636.41,   463.79],\n",
       "       [  603.79,  -340.73],\n",
       "       [   25.32,  -496.25],\n",
       "       [-1022.19,   727.94],\n",
       "       [ -484.98,  -759.11],\n",
       "       [  730.23,   377.87],\n",
       "       [  597.99,   -72.91],\n",
       "       [ 1014.6 ,   184.24],\n",
       "       [  784.78,  -755.03],\n",
       "       [  352.03,  -504.97],\n",
       "       [  211.6 ,  -127.11],\n",
       "       [  919.08,  -868.73],\n",
       "       [-1598.06,   297.29],\n",
       "       [ 1231.2 ,   486.6 ],\n",
       "       [ 1088.83,     2.05],\n",
       "       [  385.54,   411.24]])"
      ]
     },
     "execution_count": 41,
     "metadata": {},
     "output_type": "execute_result"
    }
   ],
   "source": [
    "# Now we can use MDS to estimate positions from the distance matrix:\n",
    "mds = manifold.MDS(n_components=2, max_iter=3000, eps=1e-9, dissimilarity=\"precomputed\", n_jobs=1)\n",
    "pos = mds.fit(D).embedding_\n",
    "pos"
   ]
  },
  {
   "cell_type": "code",
   "execution_count": 42,
   "metadata": {
    "collapsed": false
   },
   "outputs": [
    {
     "data": {
      "image/png": "[encoded data removed]",
      "text/plain": [
       "<matplotlib.figure.Figure at 0x1a78434e320>"
      ]
     },
     "metadata": {},
     "output_type": "display_data"
    }
   ],
   "source": [
    "# And visualize the results!\n",
    "plt.plot(pos[:,0],pos[:,1],'.')\n",
    "for label,x,y in zip(rdf.columns.values,pos[:,0],pos[:,1]):\n",
    "    plt.annotate(label,xy=(x,y))"
   ]
  },
  {
   "cell_type": "markdown",
   "metadata": {},
   "source": [
    "Keep in mind that there's no solution here for orientaton, just relative position."
   ]
  },
  {
   "cell_type": "markdown",
   "metadata": {},
   "source": [
    "Finally, we might wish to export our results to another program for visualization.  <a href=\"https://gephi.org/\">Gephi</a>, combined with the <a href=\"https://marketplace.gephi.org/plugin/mds-statistics/\">Multidimensional Scaling</A> plugin can create a layout as well."
   ]
  },
  {
   "cell_type": "code",
   "execution_count": 52,
   "metadata": {
    "collapsed": true
   },
   "outputs": [],
   "source": [
    "# First, grab the indices of just the upper right triangle (since it's symmetric)\n",
    "ur_idx = np.triu_indices(len(D),1)\n",
    "\n",
    "# And get the column and row coordinates of these\n",
    "c,r = np.meshgrid(range(len(D)),range(len(D)))\n",
    "c = c[ur_idx]\n",
    "r = r[ur_idx]\n",
    "\n",
    "# Turn them into a 1D version, and grab just those distances\n",
    "c = c.ravel()\n",
    "r = r.ravel()\n",
    "d = D[r,c]\n",
    "\n",
    "# And export those using pandas\n",
    "out_df = pd.DataFrame({'source':rdf.columns.values[r],'target':rdf.columns.values[c],'distance':d})\n",
    "out_df['source'] = rdf.columns.values[r]\n",
    "out_df['target'] = rdf.columns.values[c]\n",
    "out_df['distance'] = d\n",
    "out_df['type'] = 'undirected'\n",
    "out_df.to_csv('data/us-edges.csv',index=False)"
   ]
  },
  {
   "cell_type": "markdown",
   "metadata": {},
   "source": [
    "<img src=\"data/mds-in-gephi.png\" />"
   ]
  },
  {
   "cell_type": "markdown",
   "metadata": {},
   "source": [
    "<h2>Would you like to know more?</h2>\n",
    "\n",
    "<UL>\n",
    "<LI>See the <a href=\"http://scikit-learn.org/stable/auto_examples/manifold/plot_mds.html\">scikit learn examples</a> for more information on MDS in Python.</LI>\n",
    "<LI><A href=\"http://www.wouterspekkink.org/?p=299\">MDS with R and Gephi</A>\n",
    "<LI><A HREF=\"https://marketplace.gephi.org/plugin/mds-statistics/\">MDS</a> in <a href=\"https://gephi.org/\">Gephi</A>\n",
    "<LI>Read pretty much anything you can get your hands on by <a href=\"http://www.geog.ucsb.edu/~tobler/\">Waldo Tobler</a>.\n",
    "<LI>Grab the <a href=\"data/us-edges.gephi\">gephi file</a> for the network shown above.\n",
    "</UL>\n"
   ]
  },
  {
   "cell_type": "code",
   "execution_count": null,
   "metadata": {
    "collapsed": true
   },
   "outputs": [],
   "source": []
  }
 ],
 "metadata": {
  "kernelspec": {
   "display_name": "Python 3",
   "language": "python",
   "name": "python3"
  },
  "language_info": {
   "codemirror_mode": {
    "name": "ipython",
    "version": 3
   },
   "file_extension": ".py",
   "mimetype": "text/x-python",
   "name": "python",
   "nbconvert_exporter": "python",
   "pygments_lexer": "ipython3",
   "version": "3.5.1"
  }
 },
 "nbformat": 4,
 "nbformat_minor": 0
}
