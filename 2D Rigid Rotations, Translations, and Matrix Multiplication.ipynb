{
 "cells": [
  {
   "cell_type": "code",
   "execution_count": 2,
   "metadata": {},
   "outputs": [],
   "source": [
    "import numpy as np\n",
    "import matplotlib.pyplot as plt\n",
    "\n",
    "# See http://www.willamette.edu/~gorr/classes/GeneralGraphics/Transforms/transforms2d.htm"
   ]
  },
  {
   "cell_type": "code",
   "execution_count": 2,
   "metadata": {
    "collapsed": true,
    "jupyter": {
     "outputs_hidden": true
    }
   },
   "outputs": [],
   "source": [
    "pad = lambda x: np.hstack([x, np.ones((x.shape[0], 1))])\n",
    "unpad = lambda x: x[:,:-1]\n",
    "\n",
    "def tmat(rot=0,tx=0,ty=0):\n",
    "    T = np.identity(3)\n",
    "    T[0,0] = np.cos(np.deg2rad(rot))\n",
    "    T[1,1] = np.cos(np.deg2rad(rot))\n",
    "    T[0,1] = -np.sin(np.deg2rad(rot))\n",
    "    T[1,0] = np.sin(np.deg2rad(rot))\n",
    "    T[2,0] = tx\n",
    "    T[2,1] = ty\n",
    "    return T"
   ]
  },
  {
   "cell_type": "code",
   "execution_count": 5,
   "metadata": {
    "collapsed": true,
    "jupyter": {
     "outputs_hidden": true
    }
   },
   "outputs": [],
   "source": [
    "coords = np.array([[0,1],[0,2],[0,3]])"
   ]
  },
  {
   "cell_type": "code",
   "execution_count": 13,
   "metadata": {
    "collapsed": false,
    "jupyter": {
     "outputs_hidden": false
    }
   },
   "outputs": [
    {
     "data": {
      "text/plain": [
       "(-6, 6)"
      ]
     },
     "execution_count": 13,
     "metadata": {},
     "output_type": "execute_result"
    },
    {
     "data": {
      "image/png": "[encoded data removed]",
      "text/plain": [
       "<matplotlib.figure.Figure at 0x2b32b6ad438>"
      ]
     },
     "metadata": {},
     "output_type": "display_data"
    }
   ],
   "source": [
    "plt.plot(coords[:,0],coords[:,1],'.')\n",
    "plt.xlim([-6,6]);plt.ylim([-6,6])\n",
    "\n",
    "# A quick plot of our coordinates."
   ]
  },
  {
   "cell_type": "code",
   "execution_count": 10,
   "metadata": {
    "collapsed": true,
    "jupyter": {
     "outputs_hidden": true
    }
   },
   "outputs": [],
   "source": [
    "T0 = tmat(0,0,1)     # A translation, moving the points vertically by one\n",
    "T1 = tmat(90,0,0)    # A rotation, rotating the dots clockwise by 90 degrees\n",
    "T2 = tmat(90,0,1)    # A combination of the two.  But in which order?\n",
    "\n",
    "# Definition of some new transformations"
   ]
  },
  {
   "cell_type": "code",
   "execution_count": 14,
   "metadata": {
    "collapsed": false,
    "jupyter": {
     "outputs_hidden": false
    }
   },
   "outputs": [
    {
     "data": {
      "text/plain": [
       "(-6, 6)"
      ]
     },
     "execution_count": 14,
     "metadata": {},
     "output_type": "execute_result"
    },
    {
     "data": {
      "image/png": "[encoded data removed]",
      "text/plain": [
       "<matplotlib.figure.Figure at 0x2b32b604470>"
      ]
     },
     "metadata": {},
     "output_type": "display_data"
    }
   ],
   "source": [
    "plt.plot(*unpad(np.dot(pad(coords),T0)).T,'.')\n",
    "plt.xlim([-6,6]);plt.ylim([-6,6])\n",
    "\n",
    "# Matrix algebra using the dot function.  The original coordinates are padded with ones\n",
    "# and then multiplied by the transformation matrix.  The dots are shifted upward by one."
   ]
  },
  {
   "cell_type": "code",
   "execution_count": 15,
   "metadata": {
    "collapsed": false,
    "jupyter": {
     "outputs_hidden": false
    }
   },
   "outputs": [
    {
     "data": {
      "text/plain": [
       "(-6, 6)"
      ]
     },
     "execution_count": 15,
     "metadata": {},
     "output_type": "execute_result"
    },
    {
     "data": {
      "image/png": "[encoded data removed]",
      "text/plain": [
       "<matplotlib.figure.Figure at 0x2b32b417470>"
      ]
     },
     "metadata": {},
     "output_type": "display_data"
    }
   ],
   "source": [
    "plt.plot(*unpad(np.dot(pad(coords),T1)).T,'.')\n",
    "plt.xlim([-6,6]);plt.ylim([-6,6])\n",
    "\n",
    "# Same idea, but the transform is a 90 degree rotation about the origin."
   ]
  },
  {
   "cell_type": "code",
   "execution_count": 16,
   "metadata": {
    "collapsed": false,
    "jupyter": {
     "outputs_hidden": false
    }
   },
   "outputs": [
    {
     "data": {
      "text/plain": [
       "(-6, 6)"
      ]
     },
     "execution_count": 16,
     "metadata": {},
     "output_type": "execute_result"
    },
    {
     "data": {
      "image/png": "[encoded data removed]",
      "text/plain": [
       "<matplotlib.figure.Figure at 0x2b32b5b0940>"
      ]
     },
     "metadata": {},
     "output_type": "display_data"
    }
   ],
   "source": [
    "plt.plot(*unpad(np.dot(pad(coords),T2)).T,'.')\n",
    "plt.xlim([-6,6]);plt.ylim([-6,6])\n",
    "\n",
    "# Here the transformation contains both a rotation and a translation, but in which order?\n",
    "# Answer: The rotation is applied first, then the transform.  "
   ]
  },
  {
   "cell_type": "code",
   "execution_count": 19,
   "metadata": {
    "collapsed": false,
    "jupyter": {
     "outputs_hidden": false
    }
   },
   "outputs": [
    {
     "data": {
      "text/plain": [
       "(-6, 6)"
      ]
     },
     "execution_count": 19,
     "metadata": {},
     "output_type": "execute_result"
    },
    {
     "data": {
      "image/png": "[encoded data removed]",
      "text/plain": [
       "<matplotlib.figure.Figure at 0x2b32b9e56d8>"
      ]
     },
     "metadata": {},
     "output_type": "display_data"
    }
   ],
   "source": [
    "plt.plot(*unpad(np.dot(pad(coords),np.dot(T1,T0))).T,'.')\n",
    "plt.xlim([-6,6]);plt.ylim([-6,6])\n",
    "\n",
    "# Here, the same thing is done using a matrix multiplication of the two individual transforms.\n",
    "# Note the order!  The rotation (T1) is first, then the translation."
   ]
  },
  {
   "cell_type": "code",
   "execution_count": 20,
   "metadata": {
    "collapsed": false,
    "jupyter": {
     "outputs_hidden": false
    }
   },
   "outputs": [
    {
     "data": {
      "text/plain": [
       "(-6, 6)"
      ]
     },
     "execution_count": 20,
     "metadata": {},
     "output_type": "execute_result"
    },
    {
     "data": {
      "image/png": "[encoded data removed]",
      "text/plain": [
       "<matplotlib.figure.Figure at 0x2b32ba56240>"
      ]
     },
     "metadata": {},
     "output_type": "display_data"
    }
   ],
   "source": [
    "plt.plot(*unpad(np.dot(pad(coords),np.dot(T0,T1))).T,'.')\n",
    "plt.xlim([-6,6]);plt.ylim([-6,6])\n",
    "\n",
    "# Here, the translation is done first, then the rotation.  Note that\n",
    "# the dots are in line with y=0, indicating that the rotation was\n",
    "# second."
   ]
  },
  {
   "cell_type": "markdown",
   "metadata": {
    "jupyter": {
     "outputs_hidden": true
    }
   },
   "source": [
    "# Perspective transforms with OpenCV"
   ]
  },
  {
   "cell_type": "markdown",
   "metadata": {},
   "source": [
    "Affine, Perspective, and Homogenous Transform References:\n",
    "\n",
    "Main:\n",
    "\n",
    "https://stackoverflow.com/questions/44578876/opencv-homography-to-find-global-xy-coordinates-from-pixel-xy-coordinates#comment89939363_51143364\n",
    "\n",
    "Secondary:\n",
    "\n",
    "https://www.pyimagesearch.com/2014/08/25/4-point-opencv-getperspective-transform-example/\n",
    "https://docs.opencv.org/2.4/modules/imgproc/doc/geometric_transformations.html#Mat%20getPerspectiveTransform(InputArray%20src,%20InputArray%20dst)\n",
    "https://www.scilab.org/tutorials/computer-vision-%E2%80%93-perspective\n",
    "https://opencv-python-tutroals.readthedocs.io/en/latest/py_tutorials/py_imgproc/py_geometric_transformations/py_geometric_transformations.html#exercises\n",
    "\n",
    "\n",
    "Background:\n",
    "\n",
    "https://docs.opencv.org/2.4/doc/tutorials/imgproc/imgtrans/warp_affine/warp_affine.html\n",
    "https://stackoverflow.com/questions/45637472/opencv-transformationmatrix-affine-vs-perspective-warping\n",
    "https://www.programcreek.com/python/example/85017/cv2.getPerspectiveTransform\n",
    "\n",
    "Mine:\n",
    "\n",
    "https://github.com/thomaspingel/geography_single_shot_notebooks/blob/master/2D%20Rigid%20Rotations%2C%20Translations%2C%20and%20Matrix%20Multiplication.ipynb\n",
    "https://github.com/thomaspingel/map_labeler/blob/master/map_labeler.py\n",
    "\n",
    "Bonus:\n",
    "\n",
    "https://docs.opencv.org/2.4/modules/calib3d/doc/camera_calibration_and_3d_reconstruction.html"
   ]
  },
  {
   "cell_type": "code",
   "execution_count": 6,
   "metadata": {},
   "outputs": [],
   "source": [
    "import cv2\n",
    "from numpy.linalg import inv"
   ]
  },
  {
   "cell_type": "code",
   "execution_count": 3,
   "metadata": {},
   "outputs": [],
   "source": [
    "pts1 = np.float32([[56,65],[368,52],[28,387],[389,390]])\n",
    "pts2 = np.float32([[0,0],[300,0],[0,300],[300,300]])"
   ]
  },
  {
   "cell_type": "code",
   "execution_count": 9,
   "metadata": {},
   "outputs": [
    {
     "name": "stdout",
     "output_type": "stream",
     "text": [
      "[[-1.36167689e-14 -1.36167689e-14]\n",
      " [ 3.00000000e+02  5.19530731e-14]\n",
      " [ 0.00000000e+00  3.00000000e+02]\n",
      " [ 3.00000000e+02  3.00000000e+02]]\n"
     ]
    }
   ],
   "source": [
    "M = cv2.getPerspectiveTransform(pts1,pts2)\n",
    "I = inv(M)\n",
    "\n",
    "# from pts1 to pts2\n",
    "H = np.squeeze(cv2.convertPointsToHomogeneous(pts1))\n",
    "q = np.dot(M,H.T).T\n",
    "t = np.squeeze(cv2.convertPointsFromHomogeneous(q))\n",
    "print(t)"
   ]
  },
  {
   "cell_type": "code",
   "execution_count": 12,
   "metadata": {},
   "outputs": [
    {
     "name": "stdout",
     "output_type": "stream",
     "text": [
      "[[ 56.  65.]\n",
      " [368.  52.]\n",
      " [ 28. 387.]\n",
      " [389. 390.]]\n"
     ]
    }
   ],
   "source": [
    "# from pts2 to pts1\n",
    "H = np.squeeze(cv2.convertPointsToHomogeneous(pts2))\n",
    "q = np.dot(I,H.T).T\n",
    "t = np.squeeze(cv2.convertPointsFromHomogeneous(q))\n",
    "print(t)"
   ]
  },
  {
   "cell_type": "code",
   "execution_count": null,
   "metadata": {},
   "outputs": [],
   "source": []
  }
 ],
 "metadata": {
  "kernelspec": {
   "display_name": "Python 3",
   "language": "python",
   "name": "python3"
  },
  "language_info": {
   "codemirror_mode": {
    "name": "ipython",
    "version": 3
   },
   "file_extension": ".py",
   "mimetype": "text/x-python",
   "name": "python",
   "nbconvert_exporter": "python",
   "pygments_lexer": "ipython3",
   "version": "3.7.0"
  }
 },
 "nbformat": 4,
 "nbformat_minor": 4
}
